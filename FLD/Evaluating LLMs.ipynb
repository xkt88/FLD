{
 "cells": [
  {
   "cell_type": "markdown",
   "id": "9bea28d5-97c3-4513-bbc2-956af9bf441a",
   "metadata": {},
   "source": [
    "# 0 Function to Calculate Metrics"
   ]
  },
  {
   "cell_type": "code",
   "execution_count": 30,
   "id": "2c64d95c-93fa-4d3b-985a-90899b89dc6a",
   "metadata": {},
   "outputs": [],
   "source": [
    "from sklearn.metrics import precision_score, recall_score, f1_score, accuracy_score\n",
    "\n",
    "def evaluate_classification_performance(label, prediction):\n",
    "    \"\"\"\n",
    "    Calculate precision, recall, F1 score, and accuracy for the given label and prediction lists.\n",
    "\n",
    "    Args:\n",
    "    label (list): The list containing the true binary labels (0s and 1s).\n",
    "    prediction (list): The list containing the predicted binary labels (0s and 1s).\n",
    "\n",
    "    Returns:\n",
    "    tuple: A tuple containing the precision, recall, F1 score, and accuracy.\n",
    "    \"\"\"\n",
    "    precision = precision_score(label, prediction)\n",
    "    recall = recall_score(label, prediction)\n",
    "    f1 = f1_score(label, prediction)\n",
    "    accuracy = accuracy_score(label, prediction)\n",
    "\n",
    "    return precision, recall, f1, accuracy\n",
    "\n",
    "def calc(nlabel,label,na,a,nb,b,nc,c,nd,d):\n",
    "    t=[]\n",
    "    t.append([nlabel,'precision','recall', 'f1', 'accuracy'])\n",
    "    precision, recall, f1, accuracy = evaluate_classification_performance(label, a)\n",
    "    t.append([na,\"{:.2f}\".format(precision*100),\"{:.2f}\".format(recall*100),\"{:.2f}\".format(f1*100), \"{:.2f}\".format(accuracy*100)])\n",
    "    precision, recall, f1, accuracy = evaluate_classification_performance(label, b)\n",
    "    t.append([nb,\"{:.2f}\".format(precision*100),\"{:.2f}\".format(recall*100),\"{:.2f}\".format(f1*100), \"{:.2f}\".format(accuracy*100)])\n",
    "    precision, recall, f1, accuracy = evaluate_classification_performance(label, c)\n",
    "    t.append([nc,\"{:.2f}\".format(precision*100),\"{:.2f}\".format(recall*100),\"{:.2f}\".format(f1*100), \"{:.2f}\".format(accuracy*100)])\n",
    "    precision, recall, f1, accuracy = evaluate_classification_performance(label, d)\n",
    "    t.append([nd,\"{:.2f}\".format(precision*100),\"{:.2f}\".format(recall*100),\"{:.2f}\".format(f1*100), \"{:.2f}\".format(accuracy*100)])\n",
    "    return t\n",
    "    \n",
    "def kappa(human,GPT4,GPT3,Gemini,Claude):\n",
    "    t=[]\n",
    "    t.append(['Kappa','GPT3.5','Gemini','Claude'])\n",
    "    a = cohen_kappa_score(human, GPT3)\n",
    "    b = cohen_kappa_score(human, Gemini)\n",
    "    c = cohen_kappa_score(human, Claude)\n",
    "    t.append(['Human',a,b,c])\n",
    "    a = cohen_kappa_score(GPT4, GPT3)\n",
    "    b = cohen_kappa_score(GPT4, Gemini)\n",
    "    c = cohen_kappa_score(GPT4, Claude)\n",
    "    t.append(['GPT4',a,b,c])\n",
    "    return t\n",
    "\n",
    "\n",
    "def F1(Human,GPT4,GPT3,Gemini,Claude):\n",
    "    t=[]\n",
    "    t.append(['F1','GPT3.5','Gemini','Claude'])\n",
    "    a = f1_score(Human, GPT3)\n",
    "    b = f1_score(Human, Gemini)\n",
    "    c = f1_score(Human, Claude)\n",
    "    t.append(['Human',a,b,c])\n",
    "    a = f1_score(GPT4, GPT3)\n",
    "    b = f1_score(GPT4, Gemini)\n",
    "    c = f1_score(GPT4, Claude)\n",
    "    t.append(['GPT4',a,b,c])\n",
    "    return t\n",
    "\n",
    "def ACC(Human,GPT4,GPT3,Gemini,Claude):\n",
    "    t=[]\n",
    "    t.append(['ACC','GPT3.5','Gemini','Claude'])\n",
    "    a = accuracy_score(Human, GPT3)\n",
    "    b = accuracy_score(Human, Gemini)\n",
    "    c = accuracy_score(Human, Claude)\n",
    "    t.append(['Human',a,b,c])\n",
    "    a = accuracy_score(GPT4, GPT3)\n",
    "    b = accuracy_score(GPT4, Gemini)\n",
    "    c = accuracy_score(GPT4, Claude)\n",
    "    t.append(['GPT4',a,b,c])\n",
    "    return t\n",
    "\n",
    "def print_latex_table(data):\n",
    "  \"\"\"\n",
    "  This function takes a list of lists as input and prints it in a LaTeX table format.\n",
    "\n",
    "  Args:\n",
    "      data: A list of lists containing the data for the table.\n",
    "  \"\"\"\n",
    "  for row in data:\n",
    "    # Escape ampersands for proper LaTeX formatting\n",
    "    row_str = \" & \".join([str(x).replace('&', '\\\\&') for x in row])\n",
    "    print(row_str + \" \\\\\\\\\")"
   ]
  },
  {
   "cell_type": "markdown",
   "id": "1bde0893-3b6d-4db6-9a41-4074ce556012",
   "metadata": {},
   "source": [
    "#  1 Hyperboles"
   ]
  },
  {
   "cell_type": "code",
   "execution_count": 5,
   "id": "e373ad2c-885d-42ea-afc4-a23c73978368",
   "metadata": {},
   "outputs": [],
   "source": [
    "import json\n",
    "with open('hyperboles/labelH.json', 'r') as file:\n",
    "    labelH = json.load(file)\n",
    "with open('hyperboles/GPT4H.json', 'r') as file:\n",
    "    GPT4H = json.load(file)\n",
    "with open('hyperboles/GPT3H.json', 'r') as file:\n",
    "    GPT3H = json.load(file) \n",
    "with open('hyperboles/GeminiH.json', 'r') as file:\n",
    "    GeminiH = json.load(file)  \n",
    "with open('hyperboles/ClaudeH.json', 'r') as file:\n",
    "    ClaudeH = json.load(file)   "
   ]
  },
  {
   "cell_type": "markdown",
   "id": "c15435a1-4298-449a-a891-39787a7829e2",
   "metadata": {},
   "source": [
    "## 1.1 precision, recall, f1, accuracy"
   ]
  },
  {
   "cell_type": "code",
   "execution_count": 19,
   "id": "bf5aa5b0-3263-4527-8642-e64b5a08f015",
   "metadata": {},
   "outputs": [
    {
     "name": "stdout",
     "output_type": "stream",
     "text": [
      "      TABEL1 Human label considered as golden\n",
      "+--------+-----------+--------+--------+----------+\n",
      "| Human  | precision | recall |   f1   | accuracy |\n",
      "+========+===========+========+========+==========+\n",
      "| Gemini | 83.390    | 72.920 | 77.800 | 79.200   |\n",
      "+--------+-----------+--------+--------+----------+\n",
      "| Claude | 88.260    | 77.430 | 82.490 | 83.570   |\n",
      "+--------+-----------+--------+--------+----------+\n",
      "| GPT3.5 | 84.270    | 50.630 | 63.260 | 70.590   |\n",
      "+--------+-----------+--------+--------+----------+\n",
      "| GPT4   | 89.070    | 82.790 | 85.820 | 86.320   |\n",
      "+--------+-----------+--------+--------+----------+\n",
      "\n",
      "Human & precision & recall & f1 & accuracy \\\\\n",
      "Gemini & 83.39 & 72.92 & 77.80 & 79.20 \\\\\n",
      "Claude & 88.26 & 77.43 & 82.49 & 83.57 \\\\\n",
      "GPT3.5 & 84.27 & 50.63 & 63.26 & 70.59 \\\\\n",
      "GPT4 & 89.07 & 82.79 & 85.82 & 86.32 \\\\\n"
     ]
    }
   ],
   "source": [
    "import texttable\n",
    "table = texttable.Texttable()\n",
    "t=calc('Human',labelH,'Gemini',GeminiH,'Claude',ClaudeH,'GPT3.5',GPT3H,'GPT4',GPT4H)\n",
    "table.add_rows(t)\n",
    "print(\"      TABEL1 Human label considered as golden\")\n",
    "print(table.draw(),end='\\n\\n')\n",
    "print_latex_table(t)"
   ]
  },
  {
   "cell_type": "markdown",
   "id": "318f54f3-b661-42c3-a387-33f9ad6a56bd",
   "metadata": {},
   "source": [
    "## 1.2 Who is golden?\n",
    "Compare F1,ACC,Kappa"
   ]
  },
  {
   "cell_type": "code",
   "execution_count": 31,
   "id": "1e9012a1-83e1-4169-822d-090b51d5bcda",
   "metadata": {},
   "outputs": [
    {
     "name": "stdout",
     "output_type": "stream",
     "text": [
      "+--------+-------+-------+\n",
      "|   F1   | Human | GPT4  |\n",
      "+========+=======+=======+\n",
      "| GPT3.5 | 0.633 | 0.654 |\n",
      "+--------+-------+-------+\n",
      "| Gemini | 0.778 | 0.807 |\n",
      "+--------+-------+-------+\n",
      "| Claude | 0.825 | 0.842 |\n",
      "+--------+-------+-------+\n",
      "\n",
      "+--------+-------+-------+\n",
      "|  ACC   | Human | GPT4  |\n",
      "+========+=======+=======+\n",
      "| GPT3.5 | 0.706 | 0.736 |\n",
      "+--------+-------+-------+\n",
      "| Gemini | 0.792 | 0.826 |\n",
      "+--------+-------+-------+\n",
      "| Claude | 0.836 | 0.857 |\n",
      "+--------+-------+-------+\n",
      "\n",
      "+--------+-------+-------+\n",
      "| Kappa  | Human | GPT4  |\n",
      "+========+=======+=======+\n",
      "| GPT3.5 | 0.412 | 0.456 |\n",
      "+--------+-------+-------+\n",
      "| Gemini | 0.584 | 0.649 |\n",
      "+--------+-------+-------+\n",
      "| Claude | 0.671 | 0.711 |\n",
      "+--------+-------+-------+\n"
     ]
    }
   ],
   "source": [
    "from sklearn.metrics import cohen_kappa_score\n",
    "import texttable\n",
    "\n",
    "table = texttable.Texttable()\n",
    "t=F1(labelH,GPT4H,GPT3H,GeminiH,ClaudeH)\n",
    "td = list(map(list, zip(*t)))\n",
    "table.add_rows(td)\n",
    "print(table.draw(),end='\\n\\n')\n",
    "####--------------------------------------------------------------------------\n",
    "table = texttable.Texttable()\n",
    "t=ACC(labelH,GPT4H,GPT3H,GeminiH,ClaudeH)\n",
    "td = list(map(list, zip(*t)))\n",
    "table.add_rows(td)\n",
    "print(table.draw(),end='\\n\\n')\n",
    "####--------------------------------------------------------------------------\n",
    "table = texttable.Texttable()\n",
    "t=kappa(labelH,GPT4H,GPT3H,GeminiH,ClaudeH)\n",
    "td = list(map(list, zip(*t)))\n",
    "table.add_rows(td)\n",
    "print(table.draw())\n",
    "\n",
    "# cohen_kappa_score(GeminiInferH,labelH)"
   ]
  },
  {
   "cell_type": "markdown",
   "id": "bec3b94a-4579-4743-afbf-526541344412",
   "metadata": {},
   "source": [
    "# 2 Metaphors "
   ]
  },
  {
   "cell_type": "code",
   "execution_count": 21,
   "id": "ae216d3b-dfca-4b46-9d10-fba87cec20c8",
   "metadata": {},
   "outputs": [],
   "source": [
    "import json\n",
    "with open('Metaphors/labelM.json', 'r') as file:\n",
    "    labelM = json.load(file)\n",
    "with open('Metaphors/GPT4M.json', 'r') as file:\n",
    "    GPT4M = json.load(file)\n",
    "with open('Metaphors/GPT3M.json', 'r') as file:\n",
    "    GPT3M = json.load(file)\n",
    "with open('Metaphors/GeminiM.json', 'r') as file:\n",
    "    GeminiM = json.load(file)  \n",
    "with open('Metaphors/ClaudeM.json', 'r') as file:\n",
    "    ClaudeM = json.load(file)   "
   ]
  },
  {
   "cell_type": "markdown",
   "id": "3e93c00f-73c8-4e68-90ee-7d73273185ed",
   "metadata": {},
   "source": [
    "## 2.1 precision, recall, f1, accuracy"
   ]
  },
  {
   "cell_type": "code",
   "execution_count": 22,
   "id": "0f23c07b-6c70-4750-828c-bccd679166d3",
   "metadata": {},
   "outputs": [
    {
     "name": "stdout",
     "output_type": "stream",
     "text": [
      "      TABEL1 Human label considered as golden\n",
      "+--------+-----------+--------+--------+----------+\n",
      "| Human  | precision | recall |   f1   | accuracy |\n",
      "+========+===========+========+========+==========+\n",
      "| Gemini | 69.210    | 78.780 | 73.680 | 75.320   |\n",
      "+--------+-----------+--------+--------+----------+\n",
      "| Claude | 69.110    | 83.440 | 75.600 | 76.380   |\n",
      "+--------+-----------+--------+--------+----------+\n",
      "| GPT3.5 | 65.350    | 61.250 | 63.240 | 68.760   |\n",
      "+--------+-----------+--------+--------+----------+\n",
      "| GPT4   | 75.620    | 78.780 | 77.170 | 79.550   |\n",
      "+--------+-----------+--------+--------+----------+\n",
      "\n",
      "Human & precision & recall & f1 & accuracy \\\\\n",
      "Gemini & 69.21 & 78.78 & 73.68 & 75.32 \\\\\n",
      "Claude & 69.11 & 83.44 & 75.60 & 76.38 \\\\\n",
      "GPT3.5 & 65.35 & 61.25 & 63.24 & 68.76 \\\\\n",
      "GPT4 & 75.62 & 78.78 & 77.17 & 79.55 \\\\\n"
     ]
    }
   ],
   "source": [
    "import texttable\n",
    "table = texttable.Texttable()\n",
    "t=calc('Human',labelM,'Gemini',GeminiM,'Claude',ClaudeM,'GPT3.5',GPT3M,'GPT4',GPT4M)\n",
    "table.add_rows(t)\n",
    "print(\"      TABEL1 Human label considered as golden\")\n",
    "print(table.draw(),end='\\n\\n')\n",
    "print_latex_table(t)\n",
    "#######################################################################"
   ]
  },
  {
   "cell_type": "markdown",
   "id": "4590fe45-9ada-403b-9f48-46f7290f436c",
   "metadata": {},
   "source": [
    "## 2.2 Who is golden?\n",
    "Compare F1,ACC,Kappa"
   ]
  },
  {
   "cell_type": "code",
   "execution_count": 208,
   "id": "cfdc67a3-70bf-499b-8b77-ee2be6a50170",
   "metadata": {
    "scrolled": true
   },
   "outputs": [
    {
     "name": "stdout",
     "output_type": "stream",
     "text": [
      "+--------+-------+-------+\n",
      "|   F1   | Human | GPT4  |\n",
      "+========+=======+=======+\n",
      "| GPT3.5 | 0.632 | 0.734 |\n",
      "+--------+-------+-------+\n",
      "| Gemini | 0.737 | 0.839 |\n",
      "+--------+-------+-------+\n",
      "| Claude | 0.756 | 0.856 |\n",
      "+--------+-------+-------+\n",
      "\n",
      "+--------+-------+-------+\n",
      "|  ACC   | Human | GPT4  |\n",
      "+========+=======+=======+\n",
      "| GPT3.5 | 0.688 | 0.769 |\n",
      "+--------+-------+-------+\n",
      "| Gemini | 0.753 | 0.846 |\n",
      "+--------+-------+-------+\n",
      "| Claude | 0.764 | 0.858 |\n",
      "+--------+-------+-------+\n",
      "\n",
      "+--------+-------+-------+\n",
      "| Kappa  | Human | GPT4  |\n",
      "+========+=======+=======+\n",
      "| GPT3.5 | 0.361 | 0.532 |\n",
      "+--------+-------+-------+\n",
      "| Gemini | 0.506 | 0.692 |\n",
      "+--------+-------+-------+\n",
      "| Claude | 0.531 | 0.718 |\n",
      "+--------+-------+-------+\n"
     ]
    }
   ],
   "source": [
    "from sklearn.metrics import cohen_kappa_score\n",
    "import texttable\n",
    "\n",
    "table = texttable.Texttable()\n",
    "t=F1(labelM,GPT4M,GPT3M,GeminiM,ClaudeM)\n",
    "td = list(map(list, zip(*t)))\n",
    "table.add_rows(td)\n",
    "print(table.draw(),end='\\n\\n')\n",
    "####--------------------------------------------------------------------------\n",
    "table = texttable.Texttable()\n",
    "t=ACC(labelM,GPT4M,GPT3M,GeminiM,ClaudeM)\n",
    "td = list(map(list, zip(*t)))\n",
    "table.add_rows(td)\n",
    "print(table.draw(),end='\\n\\n')\n",
    "####--------------------------------------------------------------------------\n",
    "table = texttable.Texttable()\n",
    "t=kappa(labelM,GPT4M,GPT3M,GeminiM,ClaudeM)\n",
    "td = list(map(list, zip(*t)))\n",
    "table.add_rows(td)\n",
    "print(table.draw())\n",
    "\n",
    "# cohen_kappa_score(GeminiInferH,labelH)"
   ]
  },
  {
   "cell_type": "markdown",
   "id": "a00eedb3-c507-42ce-9515-14885bb2c9fd",
   "metadata": {},
   "source": [
    "# 3 Puns"
   ]
  },
  {
   "cell_type": "code",
   "execution_count": 23,
   "id": "2df2b2b1-efef-4fcd-b891-984498717f6a",
   "metadata": {},
   "outputs": [],
   "source": [
    "import json\n",
    "with open('Puns/labelP.json', 'r') as file:\n",
    "    labelP = json.load(file)\n",
    "with open('Puns/GPT4P.json', 'r') as file:\n",
    "    GPT4P = json.load(file)\n",
    "with open('Puns/GPT3P.json', 'r') as file:\n",
    "    GPT3P = json.load(file)\n",
    "with open('Puns/GeminiP.json', 'r') as file:\n",
    "    GeminiP = json.load(file)   \n",
    "with open('Puns/ClaudeP.json', 'r') as file:\n",
    "    ClaudeP = json.load(file)   \n"
   ]
  },
  {
   "cell_type": "markdown",
   "id": "3498f0c9-f926-4f46-8156-b27be9c25684",
   "metadata": {},
   "source": [
    "## 3.1 precision, recall, f1, accuracy"
   ]
  },
  {
   "cell_type": "code",
   "execution_count": 24,
   "id": "16ee6b41-081e-4cff-a63c-1718ee5b4702",
   "metadata": {},
   "outputs": [
    {
     "name": "stdout",
     "output_type": "stream",
     "text": [
      "      TABEL1 Human label considered as golden\n",
      "+--------+-----------+--------+--------+----------+\n",
      "| Human  | precision | recall |   f1   | accuracy |\n",
      "+========+===========+========+========+==========+\n",
      "| Gemini | 85.070    | 93.220 | 88.950 | 83.470   |\n",
      "+--------+-----------+--------+--------+----------+\n",
      "| Claude | 93.760    | 86.930 | 90.220 | 86.530   |\n",
      "+--------+-----------+--------+--------+----------+\n",
      "| GPT3.5 | 83.690    | 84.010 | 83.850 | 76.890   |\n",
      "+--------+-----------+--------+--------+----------+\n",
      "| GPT4   | 93.850    | 94.030 | 93.940 | 91.330   |\n",
      "+--------+-----------+--------+--------+----------+\n",
      "\n",
      "Human & precision & recall & f1 & accuracy \\\\\n",
      "Gemini & 85.07 & 93.22 & 88.95 & 83.47 \\\\\n",
      "Claude & 93.76 & 86.93 & 90.22 & 86.53 \\\\\n",
      "GPT3.5 & 83.69 & 84.01 & 83.85 & 76.89 \\\\\n",
      "GPT4 & 93.85 & 94.03 & 93.94 & 91.33 \\\\\n"
     ]
    }
   ],
   "source": [
    "import texttable\n",
    "table = texttable.Texttable()\n",
    "t=calc('Human',labelP,'Gemini',GeminiP,'Claude',ClaudeP,'GPT3.5',GPT3P,'GPT4',GPT4P)\n",
    "table.add_rows(t)\n",
    "print(\"      TABEL1 Human label considered as golden\")\n",
    "print(table.draw(),end='\\n\\n')\n",
    "print_latex_table(t)\n",
    "#######################################################################"
   ]
  },
  {
   "cell_type": "markdown",
   "id": "2dcb635a-8d82-4da1-b08a-ea29f0e92758",
   "metadata": {},
   "source": [
    "## 3.2 Who is golden?\n",
    "Compare F1,ACC,Kappa"
   ]
  },
  {
   "cell_type": "code",
   "execution_count": 32,
   "id": "ea117c0e-366b-445a-a0e3-14f48ee76d76",
   "metadata": {},
   "outputs": [
    {
     "name": "stdout",
     "output_type": "stream",
     "text": [
      "+--------+-------+-------+\n",
      "|   F1   | Human | GPT4  |\n",
      "+========+=======+=======+\n",
      "| GPT3.5 | 0.839 | 0.859 |\n",
      "+--------+-------+-------+\n",
      "| Gemini | 0.890 | 0.885 |\n",
      "+--------+-------+-------+\n",
      "| Claude | 0.902 | 0.911 |\n",
      "+--------+-------+-------+\n",
      "\n",
      "+--------+-------+-------+\n",
      "|  ACC   | Human | GPT4  |\n",
      "+========+=======+=======+\n",
      "| GPT3.5 | 0.769 | 0.798 |\n",
      "+--------+-------+-------+\n",
      "| Gemini | 0.835 | 0.827 |\n",
      "+--------+-------+-------+\n",
      "| Claude | 0.865 | 0.877 |\n",
      "+--------+-------+-------+\n",
      "\n",
      "+--------+-------+-------+\n",
      "| Kappa  | Human | GPT4  |\n",
      "+========+=======+=======+\n",
      "| GPT3.5 | 0.432 | 0.503 |\n",
      "+--------+-------+-------+\n",
      "| Gemini | 0.564 | 0.543 |\n",
      "+--------+-------+-------+\n",
      "| Claude | 0.687 | 0.715 |\n",
      "+--------+-------+-------+\n"
     ]
    }
   ],
   "source": [
    "from sklearn.metrics import cohen_kappa_score\n",
    "import texttable\n",
    "\n",
    "table = texttable.Texttable()\n",
    "t=F1(labelP,GPT4P,GPT3P,GeminiP,ClaudeP)\n",
    "td = list(map(list, zip(*t)))\n",
    "table.add_rows(td)\n",
    "print(table.draw(),end='\\n\\n')\n",
    "####--------------------------------------------------------------------------\n",
    "table = texttable.Texttable()\n",
    "t=ACC(labelP,GPT4P,GPT3P,GeminiP,ClaudeP)\n",
    "td = list(map(list, zip(*t)))\n",
    "table.add_rows(td)\n",
    "print(table.draw(),end='\\n\\n')\n",
    "####--------------------------------------------------------------------------\n",
    "table = texttable.Texttable()\n",
    "t=kappa(labelP,GPT4P,GPT3P,GeminiP,ClaudeP)\n",
    "td = list(map(list, zip(*t)))\n",
    "table.add_rows(td)\n",
    "print(table.draw())"
   ]
  },
  {
   "cell_type": "markdown",
   "id": "dd8a665a-91af-4382-b6e1-e87862ad1206",
   "metadata": {},
   "source": [
    "# 4 K-alpha"
   ]
  },
  {
   "cell_type": "code",
   "execution_count": 210,
   "id": "4a2c2632-d4bb-459d-bf98-24741a584f78",
   "metadata": {},
   "outputs": [
    {
     "name": "stdout",
     "output_type": "stream",
     "text": [
      " TABLE Agreement with Gemini,Claude,GPT3.5\n",
      "+---------+-----------+----------+-------+\n",
      "| K-alpha | Hyperbole | Metaphor |  Pun  |\n",
      "+=========+===========+==========+=======+\n",
      "| Human   | 0.530     | 0.511    | 0.504 |\n",
      "+---------+-----------+----------+-------+\n",
      "| GPT4    | 0.556     | 0.602    | 0.517 |\n",
      "+---------+-----------+----------+-------+\n",
      "\n"
     ]
    }
   ],
   "source": [
    "import krippendorff\n",
    "import texttable\n",
    "table = texttable.Texttable()\n",
    "t=[]\n",
    "t.append(['K-alpha','Hyperbole','Metaphor','Pun'])\n",
    "data = [labelH, GeminiH,ClaudeH,GPT3H]\n",
    "a = krippendorff.alpha(reliability_data=data, level_of_measurement='nominal')\n",
    "data = [labelM, GeminiM,ClaudeM,GPT3M]\n",
    "b = krippendorff.alpha(reliability_data=data, level_of_measurement='nominal')\n",
    "data = [labelP, GeminiP,ClaudeP,GPT3P]\n",
    "c = krippendorff.alpha(reliability_data=data, level_of_measurement='nominal')\n",
    "t.append(['Human',a,b,c])\n",
    "data = [GPT4H, GeminiH,ClaudeH,GPT3H]\n",
    "a = krippendorff.alpha(reliability_data=data, level_of_measurement='nominal')\n",
    "data = [GPT4M, GeminiM,ClaudeM,GPT3M]\n",
    "b = krippendorff.alpha(reliability_data=data, level_of_measurement='nominal')\n",
    "data = [GPT4P, GeminiP,ClaudeP,GPT3P]\n",
    "c = krippendorff.alpha(reliability_data=data, level_of_measurement='nominal')\n",
    "t.append(['GPT4',a,b,c])\n",
    "print(\" TABLE Agreement with Gemini,Claude,GPT3.5\")\n",
    "table.add_rows(t)\n",
    "print(table.draw(),end='\\n\\n')\n",
    "\n"
   ]
  },
  {
   "cell_type": "markdown",
   "id": "e61e6f21-c13b-43a5-b94b-87b2a2e1348a",
   "metadata": {},
   "source": [
    "# 5 Further Analysis of Metaphor Detection Divergence"
   ]
  },
  {
   "cell_type": "code",
   "execution_count": 8,
   "id": "b20ff101-b3ad-4d41-8945-4c4f9bcc624b",
   "metadata": {},
   "outputs": [],
   "source": [
    "import json\n",
    "with open('Metaphors/G290.json', 'r') as file:\n",
    "    G290 = json.load(file)\n",
    "with open('Metaphors/M290.json', 'r') as file:\n",
    "    M290 = json.load(file)\n",
    "with open('Metaphors/P1.json', 'r') as file:\n",
    "    P1 = json.load(file)\n",
    "with open('Metaphors/P2.json', 'r') as file:\n",
    "    P2 = json.load(file)  \n",
    "with open('Metaphors/P3.json', 'r') as file:\n",
    "    P3 = json.load(file)"
   ]
  },
  {
   "cell_type": "code",
   "execution_count": 16,
   "id": "cb158f97-641f-40c6-82b3-0aa2097f56e6",
   "metadata": {},
   "outputs": [
    {
     "name": "stdout",
     "output_type": "stream",
     "text": [
      "+----+--------+-------+\n",
      "|    | Human  | GPT4  |\n",
      "+====+========+=======+\n",
      "| P1 | -0.528 | 0.525 |\n",
      "+----+--------+-------+\n",
      "| P2 | -0.585 | 0.576 |\n",
      "+----+--------+-------+\n",
      "| P3 | -0.573 | 0.573 |\n",
      "+----+--------+-------+\n",
      "P1-P2 0.633576503123063\n",
      "P1-P3 0.6206174777603348\n",
      "P2-P3 0.6411574338473254\n"
     ]
    }
   ],
   "source": [
    "import krippendorff\n",
    "from sklearn.metrics import cohen_kappa_score\n",
    "import texttable\n",
    "def rl(l):\n",
    "    nl=[]\n",
    "    for i in l:\n",
    "        nl.append((i+1)%2)\n",
    "    return nl\n",
    "# data = [0, 1, 1, 0, 1, 1, 1, 0]\n",
    "def cohen(human,GPT4,P1,P2,P3):\n",
    "    t=[]\n",
    "    t.append(['','P1','P2','P3'])\n",
    "    a = cohen_kappa_score(human, P1)\n",
    "    b = cohen_kappa_score(human, P2)\n",
    "    c = cohen_kappa_score(human, P3)\n",
    "    t.append(['Human',a,b,c])\n",
    "    a = cohen_kappa_score(GPT4, P1)\n",
    "    b = cohen_kappa_score(GPT4, P2)\n",
    "    c = cohen_kappa_score(GPT4, P3)\n",
    "    t.append(['GPT4',a,b,c])\n",
    "    return t\n",
    "\n",
    "table = texttable.Texttable()\n",
    "t=cohen(rl(G290),G290,P1,P2,P3)\n",
    "td = list(map(list, zip(*t)))\n",
    "table.add_rows(td)\n",
    "print(table.draw())\n",
    "# print(reverselist(data))\n",
    "print(\"P1-P2\",cohen_kappa_score(P1, P2))\n",
    "print(\"P1-P3\",cohen_kappa_score(P1, P3))\n",
    "print(\"P2-P3\",cohen_kappa_score(P2, P3))"
   ]
  },
  {
   "cell_type": "code",
   "execution_count": 17,
   "id": "79bca480-3aec-4f37-ac1b-35fcdedb9288",
   "metadata": {},
   "outputs": [
    {
     "name": "stdout",
     "output_type": "stream",
     "text": [
      "0.5945725257029608 0.03600654664484415\n"
     ]
    }
   ],
   "source": [
    "data = [G290, P1,P2,P3]\n",
    "a = krippendorff.alpha(reliability_data=data, level_of_measurement='nominal')\n",
    "data = [rl(G290), P1,P2,P3]\n",
    "b = krippendorff.alpha(reliability_data=data, level_of_measurement='nominal')\n",
    "print(a,b)"
   ]
  },
  {
   "cell_type": "code",
   "execution_count": 56,
   "id": "136a8e40-7568-4150-82c9-4e3a6b4252b3",
   "metadata": {},
   "outputs": [
    {
     "name": "stdout",
     "output_type": "stream",
     "text": [
      "182 28 92 90\n"
     ]
    }
   ],
   "source": [
    "ids1=[]# 3 annotators agreed with GPT4\n",
    "ids2=[]# 3 annotators agreed with human\n",
    "ids3=[]# 3 annotators agreed 0 but human think it's 1\n",
    "ids4=[]# 3 annotators agreed 1 but human think it's 0\n",
    "hm=rl(G290)\n",
    "for i in range(290):\n",
    "    if(G290[i]+P1[i]+P2[i]+P3[i]==0 or G290[i]*P1[i]*P2[i]*P3[i]==1):\n",
    "        ids1.append(i)\n",
    "    if(hm[i]+P1[i]+P2[i]+P3[i]==0 or hm[i]*P1[i]*P2[i]*P3[i]==1):\n",
    "        ids2.append(i)\n",
    "    if(hm[i]==0 and P1[i]==1 and P2[i]==1 and P3[i]==1):\n",
    "        ids3.append(i)\n",
    "    if(hm[i]==1 and P1[i]==0 and P2[i]==0 and P3[i]==0):\n",
    "        ids4.append(i)\n",
    "print(len(ids1),len(ids2),len(ids3),len(ids4))\n",
    "# for i in ids4:\n",
    "#     print(M290[i])"
   ]
  },
  {
   "cell_type": "raw",
   "id": "05d89b42-ba67-424d-a918-067ff53616c6",
   "metadata": {},
   "source": [
    "It was unpleasant seeing her in those cheap shapeless clothes.\n",
    "Ours is the world's favourite airline.\n",
    "There's dust everywhere.\n",
    "A day was really exhausting.\n",
    "It's a difficult time.\n",
    "Travel increases your knowledge.\n",
    "The global crisis has seen prices rise over the past week.\n",
    "My bank account is almost empty."
   ]
  },
  {
   "cell_type": "markdown",
   "id": "5ae683b5-4563-4741-a3c4-f99135356f00",
   "metadata": {},
   "source": [
    "# 6 Annotation"
   ]
  },
  {
   "cell_type": "code",
   "execution_count": 1,
   "id": "20f6227e-52a1-4314-a52c-138066b9973b",
   "metadata": {},
   "outputs": [
    {
     "name": "stdout",
     "output_type": "stream",
     "text": [
      "+-------+----------+-----------------+--------+---------+\n",
      "| Kappa | Metaphor | Personification | Simile | Paradox |\n",
      "+=======+==========+=================+========+=========+\n",
      "| G-P1  | 0.476    | 0.802           | 0.924  | 0.769   |\n",
      "+-------+----------+-----------------+--------+---------+\n",
      "| G-P2  | 0.456    | 0.797           | 0.885  | 0.725   |\n",
      "+-------+----------+-----------------+--------+---------+\n",
      "| G-P3  | 0.461    | 0.762           | 0.909  | 0.716   |\n",
      "+-------+----------+-----------------+--------+---------+\n",
      "| P1-P2 | 0.442    | 0.754           | 0.938  | 0.642   |\n",
      "+-------+----------+-----------------+--------+---------+\n",
      "| P1-P3 | 0.438    | 0.758           | 0.937  | 0.709   |\n",
      "+-------+----------+-----------------+--------+---------+\n",
      "| P2-P3 | 0.386    | 0.727           | 0.949  | 0.734   |\n",
      "+-------+----------+-----------------+--------+---------+\n"
     ]
    }
   ],
   "source": [
    "import json\n",
    "with open('Annotation/gpt.json', 'r') as file:\n",
    "    G = json.load(file)\n",
    "\n",
    "with open('Annotation/p1.json', 'r') as file:\n",
    "    P1 = json.load(file)\n",
    "\n",
    "with open('Annotation/p2.json', 'r') as file:\n",
    "    P2 = json.load(file)\n",
    "\n",
    "with open('Annotation/p3.json', 'r') as file:\n",
    "    P3 = json.load(file)\n",
    "\n",
    "from sklearn.metrics import cohen_kappa_score\n",
    "def kappa(G,P1,P2,P3):\n",
    "    devices=['Metaphor','Personification','Simile','Paradox']\n",
    "    t=[]\n",
    "    t.append(['Kappa','G-P1','G-P2','G-P3','P1-P2','P1-P3','P2-P3'])\n",
    "    for i in range(4):\n",
    "        a = cohen_kappa_score(G[i], P1[i])\n",
    "        b = cohen_kappa_score(G[i], P2[i])\n",
    "        c = cohen_kappa_score(G[i], P3[i])\n",
    "        d = cohen_kappa_score(P1[i], P2[i])\n",
    "        e = cohen_kappa_score(P1[i], P3[i])\n",
    "        f = cohen_kappa_score(P2[i], P3[i])\n",
    "        t.append([devices[i],a,b,c,d,e,f])\n",
    "    return t\n",
    "\n",
    "    \n",
    "\n",
    "import texttable\n",
    "table = texttable.Texttable()\n",
    "t=kappa(G,P1,P2,P3)\n",
    "td = list(map(list, zip(*t)))\n",
    "table.add_rows(td)\n",
    "print(table.draw())\n",
    "# print(cohen_kappa_score(C3[4],G3[4]))\n"
   ]
  },
  {
   "cell_type": "code",
   "execution_count": 44,
   "id": "b789ee46-9137-400d-9647-c8ff94fd2ad4",
   "metadata": {},
   "outputs": [
    {
     "data": {
      "image/png": "[encoded data removed]",
      "text/plain": [
       "<Figure size 600x200 with 2 Axes>"
      ]
     },
     "metadata": {},
     "output_type": "display_data"
    }
   ],
   "source": [
    "import pandas as pd\n",
    "import seaborn as sns\n",
    "import matplotlib.pyplot as plt\n",
    "\n",
    "# Load the CSV file into a DataFrame\n",
    "data = pd.read_csv('Annotation/data.csv', index_col=0)\n",
    "\n",
    "# Generate the heatmap\n",
    "plt.figure(figsize=(6, 2))  # Adjust the size as needed\n",
    "heatmap = sns.heatmap(data, annot=True, fmt=\".3f\", cmap='coolwarm', linewidths=.5)\n",
    "\n",
    "# Adjust layout\n",
    "plt.xticks(rotation=45, ha='right')  # Adjust the rotation and alignment of x-tick labels if needed\n",
    "plt.yticks(rotation=0)\n",
    "plt.tight_layout()\n",
    "\n",
    "# Save the heatmap to a file or show it\n",
    "plt.savefig('heatmap.png', dpi=300)  # Save the heatmap as an image file\n",
    "# plt.show()  # Uncomment this line if you want to display the heatmap"
   ]
  },
  {
   "cell_type": "code",
   "execution_count": 55,
   "id": "c350bcd7-06e8-407a-9547-9a3f68df9d65",
   "metadata": {},
   "outputs": [
    {
     "data": {
      "image/png": "[encoded data removed]",
      "text/plain": [
       "<Figure size 600x200 with 2 Axes>"
      ]
     },
     "metadata": {},
     "output_type": "display_data"
    }
   ],
   "source": [
    "import pandas as pd\n",
    "import seaborn as sns\n",
    "import matplotlib.pyplot as plt\n",
    "from matplotlib.colors import Normalize\n",
    "\n",
    "# Load the CSV file into a DataFrame\n",
    "data = pd.read_csv('Annotation/data.csv', index_col=0)\n",
    "\n",
    "# Normalize each row\n",
    "normalized_data = data.apply(lambda x: (x - x.min()) / (x.max() - x.min()), axis=1)\n",
    "\n",
    "# Generate the heatmap\n",
    "plt.figure(figsize=(6, 1.5))  # Adjust the size as needed\n",
    "\n",
    "# Plot the heatmap using normalized data for coloring, but the original data for annotations\n",
    "heatmap = sns.heatmap(normalized_data, annot=data, fmt=\".3f\", cmap='coolwarm', linewidths=.5)\n",
    "\n",
    "# Adjust layout\n",
    "plt.xticks(rotation=0)  # Adjust the rotation and alignment of x-tick labels if needed\n",
    "plt.yticks(rotation=0)\n",
    "plt.tight_layout()\n",
    "\n",
    "# Save the heatmap to a file or show it\n",
    "plt.savefig('heatmap_normalized.png', dpi=300)  # Save the heatmap as an image file\n",
    "# plt.show()  # Uncomment this line if you want to display the heatmap"
   ]
  },
  {
   "cell_type": "code",
   "execution_count": 62,
   "id": "3dc4bd40-7973-4d8f-8158-cd0ed9f3a6ed",
   "metadata": {},
   "outputs": [
    {
     "data": {
      "image/png": "[encoded data removed]",
      "text/plain": [
       "<Figure size 550x200 with 2 Axes>"
      ]
     },
     "metadata": {},
     "output_type": "display_data"
    }
   ],
   "source": [
    "import pandas as pd\n",
    "import seaborn as sns\n",
    "import matplotlib.pyplot as plt\n",
    "from matplotlib.colors import Normalize\n",
    "\n",
    "# Load the CSV file into a DataFrame\n",
    "data = pd.read_csv('Annotation/data.csv', index_col=0)\n",
    "\n",
    "# Normalize each row\n",
    "normalized_data = data.apply(lambda x: (x - x.min()) / (x.max() - x.min()), axis=1)\n",
    "\n",
    "# Custom annotation format function\n",
    "def custom_annot_format(val):\n",
    "    if val == 0:\n",
    "        return \"0\"\n",
    "    elif 0 < val < 1:\n",
    "        return f\".{str(val).split('.')[1]}\"\n",
    "    else:\n",
    "        return str(int(val))\n",
    "\n",
    "# Generate the heatmap\n",
    "plt.figure(figsize=(5.5, 2))  # Adjust the size as needed\n",
    "\n",
    "# Plot the heatmap using normalized data for coloring, with custom annotations\n",
    "heatmap = sns.heatmap(\n",
    "    normalized_data,\n",
    "    annot=[[custom_annot_format(val) for val in row] for row in data.to_numpy()],\n",
    "    fmt=\"s\",\n",
    "    cmap='coolwarm',\n",
    "    linewidths=.5\n",
    ")\n",
    "\n",
    "# Adjust layout\n",
    "plt.xticks(rotation=0)  # Adjust the rotation and alignment of x-tick labels if needed\n",
    "plt.yticks(rotation=0)\n",
    "plt.tight_layout()\n",
    "\n",
    "# Save the heatmap to a file or show it\n",
    "plt.savefig('heatmap_normalized.png', dpi=300)  # Save the heatmap as an image file\n",
    "# plt.show()  # Uncomment this line if you want to display the heatmap"
   ]
  }
 ],
 "metadata": {
  "kernelspec": {
   "display_name": "Python 3 (ipykernel)",
   "language": "python",
   "name": "python3"
  },
  "language_info": {
   "codemirror_mode": {
    "name": "ipython",
    "version": 3
   },
   "file_extension": ".py",
   "mimetype": "text/x-python",
   "name": "python",
   "nbconvert_exporter": "python",
   "pygments_lexer": "ipython3",
   "version": "3.12.1"
  }
 },
 "nbformat": 4,
 "nbformat_minor": 5
}
