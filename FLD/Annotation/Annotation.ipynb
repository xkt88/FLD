{
 "cells": [
  {
   "cell_type": "code",
   "execution_count": 256,
   "id": "8d61eb81-0785-4a76-80dd-d2e2bdf9573b",
   "metadata": {},
   "outputs": [],
   "source": [
    "k4 = \"sk-2cFlpnRAYFNVttaWC2B51723290d4d7c84384c1b955aCe65\"\n",
    "k3=\"sk-TSSfi3awwTIvfBr83e714fE0B39e4e10AfDdBe4bF78e1025\"#3.5\n",
    "cl=\"sk-UprRGG0GqQS37uH47aA0E8366b2b4c9aBbFc9c293e72A882\"\n",
    "# !pip install openai\n",
    "\n",
    "# gpt-4-1106-preview\n",
    "# gpt-4-0125-preview\n",
    "# gpt-4\n",
    "###################################\n",
    "# gpt-3.5-turbo\n",
    "# gpt-3.5-turbo-1106\n",
    "# gpt-3.5-turbo-16k\n",
    "# claude\n"
   ]
  },
  {
   "cell_type": "markdown",
   "id": "8960681c-a452-4f7a-a31d-748ae08e3399",
   "metadata": {},
   "source": [
    "# GPT"
   ]
  },
  {
   "cell_type": "code",
   "execution_count": 486,
   "id": "0bdf191c-7473-491b-a694-0f46172e0505",
   "metadata": {},
   "outputs": [],
   "source": [
    "import json\n",
    "pre=\"\"\"\n",
    "I'll provide a poetic text. Please analyze them for the following: metaphor, personification, simile, and paradox. For each text, create a Python list where:\n",
    "• '1' indicates the presence of a device\n",
    "• '0' indicates its absence\n",
    "Note that the python list should be presented at the end of the reply.\n",
    "Example:\n",
    "paragraph: \"The artist is the lover of Nature, therefore he is her slave and her master.\"\n",
    "Analysis:\n",
    "• Metaphor: There isn't a direct metaphor, but \"Nature\" can be seen as a metaphor for the vast realm of inspiration and materials that the artist draws from.\n",
    "• Personification: Nature is personified as a lover who can enslave and empower the artist.\n",
    "• Simile: No similes are present.\n",
    "• Paradox: The core concept is a paradox. The artist is both a \"slave\" to Nature, compelled by its beauty and power, and yet also a \"master\" who uses their skills to interpret and express its essence.\n",
    "Output: [0, 1, 0, 1]\n",
    "\"\"\"\n",
    "ann=[]"
   ]
  },
  {
   "cell_type": "raw",
   "id": "0a9df57a-15fa-4fc6-840c-18513a2fca33",
   "metadata": {},
   "source": [
    "birds=[]\n",
    "ann=[]\n",
    "with open('Annotation/strayBird.json', 'r') as infile:\n",
    "    birds = json.load(infile)\n",
    "\n",
    "print(len(birds))"
   ]
  },
  {
   "cell_type": "code",
   "execution_count": 477,
   "id": "1e87c94e-e9b1-4c7e-8772-9aa3324a4303",
   "metadata": {},
   "outputs": [],
   "source": [
    "from openai import OpenAI\n",
    "import httpx\n",
    "\n",
    "client = OpenAI(\n",
    "    base_url=\"https://api.xty.app/v1\", \n",
    "    api_key=k4,\n",
    "    http_client=httpx.Client(\n",
    "        base_url=\"https://api.xty.app/v1\",\n",
    "        follow_redirects=True,\n",
    "    ),\n",
    ")\n",
    "# text=\"\""
   ]
  },
  {
   "cell_type": "code",
   "execution_count": 487,
   "id": "7f219b39-f003-49ee-be2d-e9c5921cc886",
   "metadata": {},
   "outputs": [
    {
     "name": "stdout",
     "output_type": "stream",
     "text": [
      "0,1,2,3,4,5,6,7,8,9,10,11,12,13,14,15,16,17,18,19,20,21,22,23,24,25,26,27,28,29,30,31,32,33,34,35,36,37,38,39,40,41,42,43,44,45,46,47,48,49,50,51,52,53,54,55,56,57,58,59,60,61,62,63,64,65,66,67,68,69,70,71,72,73,74,75,76,77,78,79,80,81,82,83,84,85,86,87,88,89,90,91,92,93,94,95,96,97,98,99,100,101,102,103,104,105,106,107,108,109,110,111,112,113,114,115,116,117,118,119,120,121,122,123,124,125,126,127,128,129,130,131,132,133,134,135,136,137,138,139,140,141,142,143,144,145,146,147,148,149,150,151,152,153,154,155,156,157,158,159,160,161,162,163,164,165,166,167,168,169,170,171,172,173,174,175,176,177,178,179,180,181,182,183,184,185,186,187,188,189,190,191,192,193,194,195,196,197,198,199,200,201,202,203,204,205,206,207,208,209,210,211,212,213,214,215,216,217,218,219,220,221,222,223,224,225,226,227,228,229,230,231,232,233,234,235,236,237,238,239,240,241,242,243,244,245,246,247,248,249,250,251,252,253,254,255,256,257,258,259,260,261,262,263,264,265,266,267,268,269,270,271,272,273,274,275,276,277,278,279,280,281,282,283,284,285,286,287,288,289,290,291,292,293,294,295,296,297,298,299,300,301,302,303,304,305,306,307,308,309,310,311,312,313,314,315,316,317,318,319,320,321,322,323,324,325,"
     ]
    }
   ],
   "source": [
    "# ann=[]\n",
    "start=len(ann)\n",
    "for p in birds[start:]:\n",
    "    completion = client.chat.completions.create(\n",
    "      model=\"gpt-4\",\n",
    "      messages=[\n",
    "        {\"role\": \"system\", \"content\": pre},\n",
    "        {\"role\": \"user\", \"content\": p}\n",
    "      ]\n",
    "    )\n",
    "    chat_message = completion.choices[0].message.content\n",
    "    print(len(ann),end=',')\n",
    "    ann.append(chat_message)\n",
    "# print(len(ann))"
   ]
  },
  {
   "cell_type": "code",
   "execution_count": 192,
   "id": "e0053d27-5b0b-4831-a242-d189936f7529",
   "metadata": {},
   "outputs": [
    {
     "name": "stdout",
     "output_type": "stream",
     "text": [
      "Analyzing the given poetic text \"Let this be my last word, that I trust in thy love\":\n",
      "\n",
      "• Metaphor: There's no explicit metaphor.\n",
      "• Personification: There isn't directly personification, but \"love\" being something one can trust in might be seen as imbuing it with a sense of reliability or entity-like qualities, although it's quite subtle and a stretch.\n",
      "• Symbolism: \"thy love\" can be seen as symbolic for deep feelings of affection, trust, and connection between individuals. However, it's more direct than symbolic.\n",
      "• Simile: No similes are present.\n",
      "• Paradox: There isn't an explicit paradox within the sentence.\n",
      "\n",
      "Output: [0, 0, 0, 0, 0]\n",
      "\n",
      "Considering the potential subtle interpretation of love being given a quality (trust) that could be seen as personification, if we are to interpret it as such, then the presence of personification could be argued:\n",
      "\n",
      "Revised Output with a generous interpretation: [0, 1, 0, 0, 0]\n"
     ]
    }
   ],
   "source": [
    "print(ann[325])"
   ]
  },
  {
   "cell_type": "code",
   "execution_count": 492,
   "id": "1f170e6f-df3c-4606-acdc-6a7fb638930b",
   "metadata": {},
   "outputs": [],
   "source": [
    "import json\n",
    "with open(\"four/four06133.json\", \"w\") as outfile:  \n",
    "    json.dump(bll, outfile) \n"
   ]
  },
  {
   "cell_type": "code",
   "execution_count": 489,
   "id": "4beecdc5-a671-4c41-a944-e335cac8da8b",
   "metadata": {},
   "outputs": [
    {
     "name": "stdout",
     "output_type": "stream",
     "text": [
      "The Perfect decks itself in beauty for the love of the Imperfect.\n",
      "\n",
      "\n",
      "\n",
      "---------------------------------------------------------------------------------------------------\n",
      "Analysis:\n",
      "• Metaphor: The terms \"The Perfect\" and \"The Imperfect\" are used metaphorically to represent entities or ideals, which can be interpreted as people, situations, or concepts that are inherently flawless or flawed.\n",
      "• Personification: Both \"The Perfect\" and \"The Imperfect\" are personified with the capacity to love and to be adorned.\n",
      "• Simile: There are no similes present.\n",
      "• Paradox: The statement is paradoxical as it presents the idea that perfection seeks to beautify itself for something that is inherently not perfect, implying an attraction or necessity between opposites that seems illogical.\n",
      "\n",
      "Output: [1, 1, 0, 1]\n"
     ]
    }
   ],
   "source": [
    "# print(birds[22])\n",
    "i=61\n",
    "print(birds[i])\n",
    "print('-'*99)\n",
    "completion = client.chat.completions.create(\n",
    "  model=\"gpt-4\",\n",
    "  # model=\"gpt-3.5-turbo\",\n",
    "  messages=[\n",
    "    {\"role\": \"system\", \"content\": pre},\n",
    "    {\"role\": \"user\", \"content\": birds[i]}\n",
    "  ]\n",
    ")\n",
    "chat_message = completion.choices[0].message.content\n",
    "\n",
    "print(chat_message)\n",
    "ann[i]=chat_message\n",
    "# print(ann[i])"
   ]
  },
  {
   "cell_type": "code",
   "execution_count": 490,
   "id": "dd499756-5507-4aa3-8092-001603c70f13",
   "metadata": {},
   "outputs": [
    {
     "name": "stdout",
     "output_type": "stream",
     "text": [
      "0 [0, 1, 0, 0]\t1 [1, 1, 0, 0]\t2 [1, 1, 1, 1]\t3 [1, 1, 0, 1]\t4 [1, 1, 0, 0]\t5 [1, 0, 0, 1]\t\n",
      "6 [1, 1, 0, 0]\t7 [0, 0, 1, 0]\t8 [0, 0, 0, 1]\t9 [0, 0, 1, 0]\t10 [1, 1, 1, 0]\t11 [1, 1, 0, 1]\t\n",
      "12 [1, 1, 0, 0]\t13 [1, 0, 1, 0]\t14 [1, 0, 0, 0]\t15 [1, 1, 0, 0]\t16 [1, 0, 0, 0]\t17 [1, 0, 0, 1]\t\n",
      "18 [1, 1, 0, 0]\t19 [1, 1, 0, 1]\t20 [1, 0, 0, 1]\t21 [1, 0, 0, 1]\t22 [1, 1, 0, 0]\t23 [1, 0, 1, 0]\t\n",
      "24 [1, 0, 0, 0]\t25 [1, 1, 0, 0]\t26 [0, 1, 1, 0]\t27 [1, 1, 0, 0]\t28 [1, 1, 0, 0]\t29 [0, 1, 0, 0]\t\n",
      "30 [1, 1, 1, 1]\t31 [0, 1, 0, 1]\t32 [1, 0, 0, 1]\t33 [1, 1, 0, 0]\t34 [1, 1, 0, 0]\t35 [0, 1, 0, 0]\t\n",
      "36 [1, 1, 0, 1]\t37 [1, 0, 1, 0]\t38 [1, 1, 0, 0]\t39 [0, 1, 0, 0]\t40 [0, 1, 1, 0]\t41 [0, 0, 0, 1]\t\n",
      "42 [1, 1, 0, 1]\t43 [1, 1, 0, 0]\t44 [1, 0, 0, 1]\t45 [1, 1, 0, 1]\t46 [1, 1, 0, 1]\t47 [1, 0, 1, 0]\t\n",
      "48 [1, 0, 0, 0]\t49 [1, 1, 0, 1]\t50 [1, 0, 0, 1]\t51 [1, 0, 0, 0]\t52 [1, 1, 0, 0]\t53 [1, 0, 1, 0]\t\n",
      "54 [0, 1, 1, 0]\t55 [1, 0, 0, 1]\t56 [0, 0, 0, 1]\t57 [1, 1, 0, 0]\t58 [1, 1, 0, 0]\t59 [0, 1, 0, 1]\t\n",
      "60 [0, 0, 0, 1]\t61 [1, 1, 0, 1]\t62 [0, 1, 0, 1]\t63 [1, 1, 0, 1]\t64 [1, 1, 0, 1]\t65 [1, 1, 0, 0]\t\n",
      "66 [1, 1, 0, 1]\t67 [0, 1, 0, 1]\t68 [0, 1, 0, 1]\t69 [1, 0, 0, 1]\t70 [0, 1, 0, 1]\t71 [1, 1, 0, 0]\t\n",
      "72 [1, 0, 0, 0]\t73 [0, 1, 1, 0]\t74 [1, 0, 0, 1]\t75 [0, 1, 0, 0]\t76 [1, 1, 0, 1]\t77 [1, 1, 0, 0]\t\n",
      "78 [1, 0, 0, 1]\t79 [1, 1, 1, 0]\t80 [1, 0, 0, 1]\t81 [1, 0, 1, 0]\t82 [1, 0, 0, 1]\t83 [1, 0, 0, 1]\t\n",
      "84 [0, 1, 0, 1]\t85 [1, 1, 0, 1]\t86 [1, 0, 0, 1]\t87 [1, 1, 0, 0]\t88 [1, 1, 0, 1]\t89 [1, 0, 0, 1]\t\n",
      "90 [1, 1, 0, 0]\t91 [1, 0, 0, 0]\t92 [0, 1, 0, 1]\t93 [1, 1, 1, 0]\t94 [1, 1, 0, 0]\t95 [1, 1, 0, 1]\t\n",
      "96 [1, 0, 0, 1]\t97 [1, 0, 0, 0]\t98 [1, 1, 0, 1]\t99 [1, 1, 0, 0]\t100 [1, 1, 0, 0]\t101 [0, 1, 0, 1]\t\n",
      "102 [1, 0, 0, 1]\t103 [1, 1, 0, 1]\t104 [1, 0, 0, 0]\t105 [1, 0, 1, 0]\t106 [1, 1, 0, 1]\t107 [0, 1, 0, 1]\t\n",
      "108 [1, 0, 0, 1]\t109 [1, 0, 0, 1]\t110 [0, 0, 0, 1]\t111 [1, 1, 0, 0]\t112 [0, 1, 1, 0]\t113 [1, 1, 0, 1]\t\n",
      "114 [1, 1, 0, 0]\t115 [0, 1, 1, 0]\t116 [1, 0, 0, 1]\t117 [1, 1, 0, 0]\t118 [1, 1, 0, 1]\t119 [1, 1, 1, 0]\t\n",
      "120 [1, 0, 0, 1]\t121 [1, 1, 0, 0]\t122 [1, 1, 0, 1]\t123 [1, 1, 0, 0]\t124 [1, 0, 0, 1]\t125 [1, 1, 0, 0]\t\n",
      "126 [0, 1, 0, 0]\t127 [0, 0, 0, 1]\t128 [1, 1, 0, 1]\t129 [1, 0, 0, 1]\t130 [1, 1, 0, 0]\t131 [1, 0, 0, 1]\t\n",
      "132 [1, 1, 0, 0]\t133 [1, 0, 0, 1]\t134 [0, 1, 0, 0]\t135 [1, 1, 1, 0]\t136 [1, 1, 0, 0]\t137 [0, 1, 0, 1]\t\n",
      "138 [1, 1, 0, 1]\t139 [1, 1, 0, 1]\t140 [1, 1, 0, 0]\t141 [1, 1, 0, 0]\t142 [1, 0, 0, 0]\t143 [1, 1, 0, 0]\t\n",
      "144 [1, 1, 0, 1]\t145 [1, 0, 0, 1]\t146 [1, 0, 0, 1]\t147 [1, 1, 0, 0]\t148 [1, 1, 0, 0]\t149 [1, 1, 0, 1]\t\n",
      "150 [1, 0, 0, 1]\t151 [1, 0, 0, 1]\t152 [0, 1, 0, 0]\t153 [1, 1, 0, 1]\t154 [1, 0, 1, 0]\t155 [1, 0, 0, 1]\t\n",
      "156 [1, 1, 0, 0]\t157 [1, 1, 0, 0]\t158 [1, 0, 0, 1]\t159 [1, 1, 0, 0]\t160 [0, 1, 0, 0]\t161 [1, 1, 0, 1]\t\n",
      "162 [0, 1, 0, 0]\t163 [1, 1, 0, 1]\t164 [0, 0, 1, 0]\t165 [0, 1, 0, 0]\t166 [1, 1, 0, 1]\t167 [1, 1, 0, 1]\t\n",
      "168 [1, 1, 0, 0]\t169 [1, 0, 0, 0]\t170 [0, 0, 0, 1]\t171 [0, 1, 0, 0]\t172 [1, 1, 0, 1]\t173 [1, 1, 0, 0]\t\n",
      "174 [0, 0, 0, 0]\t175 [1, 0, 0, 1]\t176 [1, 0, 0, 0]\t177 [1, 0, 0, 1]\t178 [1, 1, 0, 0]\t179 [0, 1, 0, 0]\t\n",
      "180 [1, 1, 0, 0]\t181 [0, 1, 1, 0]\t182 [1, 0, 1, 0]\t183 [1, 0, 0, 1]\t184 [1, 0, 0, 1]\t185 [1, 1, 0, 0]\t\n",
      "186 [1, 1, 0, 0]\t187 [1, 1, 0, 1]\t188 [1, 1, 0, 0]\t189 [1, 1, 0, 1]\t190 [1, 1, 0, 1]\t191 [1, 0, 0, 0]\t\n",
      "192 [1, 0, 1, 1]\t193 [1, 1, 0, 1]\t194 [1, 0, 0, 1]\t195 [1, 1, 1, 0]\t196 [1, 0, 0, 1]\t197 [1, 0, 1, 0]\t\n",
      "198 [1, 1, 0, 0]\t199 [1, 1, 0, 1]\t200 [1, 1, 0, 1]\t201 [1, 1, 0, 0]\t202 [1, 1, 0, 1]\t203 [1, 1, 0, 0]\t\n",
      "204 [1, 1, 0, 1]\t205 [1, 0, 0, 1]\t206 [0, 0, 0, 1]\t207 [0, 0, 1, 0]\t208 [0, 0, 1, 0]\t209 [1, 0, 0, 1]\t\n",
      "210 [1, 1, 0, 1]\t211 [1, 1, 0, 0]\t212 [1, 0, 0, 1]\t213 [1, 0, 0, 0]\t214 [1, 1, 0, 1]\t215 [1, 1, 0, 0]\t\n",
      "216 [1, 1, 0, 0]\t217 [1, 1, 0, 0]\t218 [0, 0, 0, 1]\t219 [1, 1, 0, 1]\t220 [1, 1, 1, 0]\t221 [1, 0, 0, 1]\t\n",
      "222 [1, 0, 0, 1]\t223 [0, 1, 1, 0]\t224 [1, 1, 0, 1]\t225 [0, 1, 0, 1]\t226 [1, 0, 0, 1]\t227 [1, 0, 0, 0]\t\n",
      "228 [1, 0, 0, 1]\t229 [1, 0, 0, 1]\t230 [1, 0, 0, 1]\t231 [1, 0, 0, 1]\t232 [1, 0, 0, 1]\t233 [0, 1, 0, 0]\t\n",
      "234 [1, 0, 0, 1]\t235 [1, 1, 0, 0]\t236 [0, 1, 0, 0]\t237 [0, 1, 0, 0]\t238 [1, 0, 1, 0]\t239 [1, 1, 0, 1]\t\n",
      "240 [1, 1, 0, 1]\t241 [1, 0, 0, 0]\t242 [1, 1, 0, 1]\t243 [1, 1, 0, 1]\t244 [1, 0, 0, 0]\t245 [0, 1, 0, 0]\t\n",
      "246 [0, 1, 0, 0]\t247 [1, 0, 0, 1]\t248 [1, 1, 0, 0]\t249 [1, 1, 0, 1]\t250 [1, 0, 1, 0]\t251 [1, 1, 0, 1]\t\n",
      "252 [1, 1, 1, 0]\t253 [1, 0, 0, 1]\t254 [1, 0, 1, 0]\t255 [1, 1, 0, 1]\t256 [1, 0, 0, 1]\t257 [1, 0, 0, 1]\t\n",
      "258 [1, 1, 0, 0]\t259 [1, 0, 0, 0]\t260 [1, 0, 1, 0]\t261 [0, 1, 1, 0]\t262 [1, 0, 0, 0]\t263 [1, 1, 0, 0]\t\n",
      "264 [1, 1, 0, 0]\t265 [1, 0, 0, 0]\t266 [1, 0, 0, 1]\t267 [1, 0, 0, 1]\t268 [1, 1, 0, 0]\t269 [1, 1, 0, 0]\t\n",
      "270 [1, 1, 0, 0]\t271 [1, 1, 0, 0]\t272 [0, 0, 1, 0]\t273 [1, 1, 0, 0]\t274 [1, 0, 0, 0]\t275 [1, 1, 0, 0]\t\n",
      "276 [1, 0, 0, 1]\t277 [1, 1, 0, 0]\t278 [1, 0, 0, 1]\t279 [0, 0, 0, 1]\t280 [1, 0, 1, 0]\t281 [1, 0, 0, 1]\t\n",
      "282 [1, 0, 0, 1]\t283 [0, 0, 1, 0]\t284 [1, 1, 0, 0]\t285 [1, 1, 0, 1]\t286 [1, 0, 0, 0]\t287 [0, 0, 1, 0]\t\n",
      "288 [0, 0, 0, 1]\t289 [1, 0, 0, 0]\t290 [1, 0, 0, 0]\t291 [1, 1, 0, 0]\t292 [1, 1, 0, 1]\t293 [1, 1, 0, 0]\t\n",
      "294 [1, 1, 0, 1]\t295 [0, 0, 0, 1]\t296 [1, 0, 1, 0]\t297 [1, 1, 0, 0]\t298 [0, 1, 0, 0]\t299 [1, 1, 0, 1]\t\n",
      "300 [1, 0, 0, 0]\t301 [1, 1, 0, 1]\t302 [1, 0, 0, 1]\t303 [1, 0, 0, 0]\t304 [1, 0, 0, 1]\t305 [1, 0, 0, 0]\t\n",
      "306 [0, 1, 0, 0]\t307 [1, 1, 1, 0]\t308 [1, 1, 0, 0]\t309 [1, 0, 0, 0]\t310 [1, 1, 1, 0]\t311 [0, 0, 0, 1]\t\n",
      "312 [1, 1, 0, 1]\t313 [1, 1, 0, 0]\t314 [1, 0, 0, 0]\t315 [1, 0, 0, 1]\t316 [1, 1, 0, 0]\t317 [1, 0, 1, 0]\t\n",
      "318 [1, 0, 0, 0]\t319 [1, 1, 0, 0]\t320 [1, 0, 0, 1]\t321 [1, 0, 0, 0]\t322 [0, 0, 0, 0]\t323 [1, 0, 0, 0]\t\n",
      "324 [1, 1, 0, 0]\t325 [0, 1, 0, 0]\t"
     ]
    }
   ],
   "source": [
    "all=[]\n",
    "for i,a in enumerate(ann):\n",
    "    all.append(extract(a))\n",
    "    print(i,extract(a),end='\\t')\n",
    "    if((i+1)%6==0):\n",
    "        print()\n",
    "    # print('-'*99)\n"
   ]
  },
  {
   "cell_type": "raw",
   "id": "ac70d037-d024-4795-9ba7-7669660bb91e",
   "metadata": {},
   "source": [
    "i=279\n",
    "ann[i]=\"\"\"Analysis:\n",
    "• Metaphor: The phrase \"these great trees are prayers\" is a metaphor, equating trees to prayers, suggesting that they are a form of spiritual communication or reverence.\n",
    "• Personification: There isn't direct personification of an inanimate object with human qualities, unless you consider the heart being commanded to \"be still\" as implying it has the capacity to obey, which is a marginal case.\n",
    "• Symbolism: Trees likely symbolize strength, growth, and a connection to nature, and in this context, they are further symbolized as prayers, representing something sacred and reverent.\n",
    "• Simile: There is no comparison using 'like' or 'as,' so no simile is present.\n",
    "• Paradox: There is no paradox presented in the phrase.\n",
    "\n",
    "Output: [1, 0, 1, 0, 0]\"\"\"\n",
    "print(ann[i])"
   ]
  },
  {
   "cell_type": "code",
   "execution_count": 491,
   "id": "3937154f-eb50-445e-a89d-033b1761cfd2",
   "metadata": {},
   "outputs": [
    {
     "name": "stdout",
     "output_type": "stream",
     "text": [
      "326\n",
      "261   189   47   150   "
     ]
    }
   ],
   "source": [
    "print(len(all))\n",
    "bll = list(zip(*all))\n",
    "for i in range(4):\n",
    "    print(sum(bll[i]),end='   ')\n",
    "\n",
    "#1106\n",
    "# 278   198    46   117  \n",
    "# 296   190    45   139 \n",
    "\n",
    "#0125\n",
    "# 279   195    45   123 \n",
    "# 266   199    44   145 \n",
    "#0613\n",
    "# 277   188    45   122 \n",
    "# 285   189    46   132  \n",
    "# 261   189    47   150      \n",
    "#32k\n",
    "#279   192     48   134   "
   ]
  },
  {
   "cell_type": "code",
   "execution_count": 148,
   "id": "6e79e4cf-991e-4009-ac43-9d7c159d2b8c",
   "metadata": {},
   "outputs": [],
   "source": [
    "def extract(analysis_string):\n",
    "  # Split the string by brackets, assuming the list is within square brackets at the end.\n",
    "  parts = analysis_string.split(\"[\")\n",
    "  if len(parts) > 1:\n",
    "    analysis_list_str = parts[-1].rstrip(\"]\")  # Extract the part after the split\n",
    "    analysis_list = [int(item) for item in analysis_list_str.split(\",\")]  # Convert string elements to integers\n",
    "    return analysis_list\n",
    "  else:\n",
    "    return []  # Return an empty list if the format is not found\n"
   ]
  },
  {
   "cell_type": "raw",
   "id": "ca7db3d5-f48f-4fad-a74b-b181693719e8",
   "metadata": {},
   "source": [
    "print(i)\n",
    "ann[i]=\"\"\"Output: [1, 1, 1, 0, 0]\"\"\"\n",
    "print(ann[i])"
   ]
  },
  {
   "cell_type": "code",
   "execution_count": 150,
   "id": "1e4a10f2-e5d5-4980-a63f-312b40ca9fda",
   "metadata": {},
   "outputs": [],
   "source": [
    "def extract(analysis_string):\n",
    "  \"\"\"Extracts a Python list from the analysis string, or returns the input directly if it's already a list.\n",
    "\n",
    "  Args:\n",
    "      analysis_string: A string potentially containing a Python list representation, or a list.\n",
    "\n",
    "  Returns:\n",
    "      A list containing the extracted elements (as integers), or the input list if the input was already a list.\n",
    "  \"\"\"\n",
    "\n",
    "  if isinstance(analysis_string, list):  # Check if input is already a list\n",
    "      return analysis_string  # If so, return it directly\n",
    "\n",
    "  # Rest of the original code (assuming string input) \n",
    "  parts = analysis_string.split(\"[\")\n",
    "  if len(parts) > 1:\n",
    "    analysis_list_str = parts[-1].rstrip(\"]\")  \n",
    "    analysis_list = [int(item) for item in analysis_list_str.split(\",\")] \n",
    "    return analysis_list\n",
    "  else:\n",
    "    return []  \n"
   ]
  },
  {
   "cell_type": "markdown",
   "id": "0db3cea1-9d6c-4924-800d-307ca9f10208",
   "metadata": {},
   "source": [
    "# Claude"
   ]
  },
  {
   "cell_type": "code",
   "execution_count": 401,
   "id": "5189f5fa-990d-4f45-83db-bf98cf5e3480",
   "metadata": {},
   "outputs": [],
   "source": [
    "import requests\n",
    "\n",
    "\n",
    "url = \"https://xqtd520qidong.com/v1/chat/completions\"\n",
    "\n",
    "headers = {\n",
    "    \"Authorization\": cl,\n",
    "    \"content-type\": \"application/json\"\n",
    "}\n",
    "ann=[]"
   ]
  },
  {
   "cell_type": "code",
   "execution_count": 430,
   "id": "9eaecbdc-6778-4940-befa-a4001e268d08",
   "metadata": {},
   "outputs": [
    {
     "name": "stdout",
     "output_type": "stream",
     "text": [
      "324,325,"
     ]
    }
   ],
   "source": [
    "start=len(ann)\n",
    "for b in birds[start:]:\n",
    "    data = {\n",
    "        \"messages\": [\n",
    "            {\n",
    "                \"role\": \"user\",\n",
    "                \"content\":pre+b,\n",
    "            }\n",
    "        ],\n",
    "        \"model\": \"claude-1.3\",\n",
    "        # \"model\":\"claude-3-opus-20240229\",\n",
    "        \"max_tokens_to_sample\": 1000,\n",
    "    }\n",
    "    \n",
    "    response = requests.post(url, headers=headers, json=data)\n",
    "    data = json.loads(response.text)\n",
    "    content =  data[\"choices\"][0][\"message\"][\"content\"]\n",
    "    print(len(ann),end=',')\n",
    "    ann.append(content)\n",
    "  \n",
    "# print(content)"
   ]
  },
  {
   "cell_type": "code",
   "execution_count": 431,
   "id": "48203306-d3f9-4131-a7bd-f4784d3a611c",
   "metadata": {
    "scrolled": true
   },
   "outputs": [
    {
     "name": "stdout",
     "output_type": "stream",
     "text": [
      "0 [1, 1, 1, 0, 0]\t1 [1, 1, 1, 0, 0]\t2 [1, 1, 1, 0, 0]\t3 [1, 1, 1, 0, 0]\t4 [1, 1, 1, 0, 1]\t5 [1, 0, 1, 0, 0]\t\n",
      "6 [1, 1, 1, 0, 1]\t7 [1, 1, 1, 1, 0]\t8 None\t9 [1, 1, 1, 1, 0]\t10 [1, 1, 1, 1, 0]\t11 [1, 1, 1, 0, 0]\t\n",
      "12 [1, 1, 1, 0, 0]\t13 [1, 0, 1, 2, 0]\t14 [1, 0, 1, 0, 0]\t15 [1, 1, 1, 1, 0]\t16 [1, 1, 1, 0, 0]\t17 [1, 0, 1, 0, 1]\t\n",
      "18 None\t19 [0, 0, 1, 0, 1]\t20 [0, 0, 1, 0, 0]\t21 [0, 0, 1, 0, 1]\t22 [1, 1, 1, 0, 0]\t23 [1, 0, 0, 1, 0]\t\n",
      "24 [0, 0, 1, 0, 0]\t25 [0, 0, 1, 0, 0]\t26 [1, 1, 1, 1, 0]\t27 [0, 1, 1, 0, 0]\t28 [1, 1, 1, 0, 0]\t29 [1, 1, 1, 0, 0]\t\n",
      "30 [0, 1, 1, 1, 0]\t31 [0, 1, 1, 0, 1]\t32 [0, 1, 0, 0, 1]\t33 [1, 1, 1, 0, 0]\t34 [1, 1, 1, 0, 1]\t35 [1, 1, 1, 0, 0]\t\n",
      "36 [1, 1, 1, 0, 0]\t37 [1, 1, 1, 1, 0]\t38 [1, 1, 1, 0, 0]\t39 [0, 0, 0, 0, 1]\t40 [1, 1, 1, 1, 0]\t41 [0, 1, 1, 0, 0]\t\n",
      "42 [0, 0, 1, 1, 0]\t43 [1, 1, 1, 0, 0]\t44 [1, 1, 1, 0, 1]\t45 [1, 0, 0, 0, 0]\t46 [1, 1, 1, 0, 0]\t47 [1, 1, 1, 1, 0]\t\n",
      "48 [0, 1, 1, 0, 0]\t49 [0, 0, 1, 1, 0]\t50 [0, 0, 1, 0, 0]\t51 [0, 1, 1, 0, 1]\t52 [1, 1, 1, 0, 0]\t53 [1, 1, 1, 0, 0]\t\n",
      "54 [1, 1, 1, 1, 0]\t55 [1, 0, 1, 0, 1]\t56 None\t57 [1, 1, 1, 0, 0]\t58 [0, 1, 1, 0, 0]\t59 [1, 1, 1, 0, 1]\t\n",
      "60 None\t61 [1, 1, 1, 0, 1]\t62 [0, 1, 0, 0, 1]\t63 None\t64 [1, 1, 1, 0, 1]\t65 None\t\n",
      "66 [0, 1, 1, 0, 1]\t67 None\t68 [1, 1, 1, 0, 1]\t69 [0, 1, 1, 0, 0]\t70 [1, 1, 1, 0, 0]\t71 [0, 1, 1, 0, 0]\t\n",
      "72 [1, 0, 1, 0, 0]\t73 [1, 1, 1, 1, 0]\t74 [0, 0, 0, 0, 1]\t75 [1, 1, 1, 0, 0]\t76 [1, 1, 1, 0, 1]\t77 None\t\n",
      "78 [0, 0, 1, 0, 1]\t79 [1, 1, 1, 1, 0]\t80 [1, 0, 1, 0, 1]\t81 [1, 1, 1, 1, 0]\t82 [0, 1, 1, 0, 0]\t83 [0, 0, 0, 0, 1]\t\n",
      "84 [0, 1, 1, 0, 1]\t85 [1, 1, 1, 0, 1]\t86 [1, 0, 1, 0, 1]\t87 [1, 1, 1, 0, 0]\t88 [1, 1, 1, 0, 0]\t89 [0, 0, 0, 0, 1]\t\n",
      "90 [1, 1, 1, 0, 0]\t91 [1, 0, 1, 0, 0]\t92 [1, 1, 1, 0, 1]\t93 [1, 1, 1, 1, 0]\t94 [1, 1, 1, 0, 0]\t95 [1, 0, 1, 0, 1]\t\n",
      "96 [1, 0, 1, 0, 0]\t97 [1, 1, 1, 0, 0]\t98 [1, 1, 1, 0, 0]\t99 [1, 1, 1, 0, 0]\t100 [1, 1, 1, 0, 1]\t101 [1, 1, 1, 0, 0]\t\n",
      "102 [1, 0, 1, 1, 0]\t103 [1, 1, 1, 0, 0]\t104 [0, 0, 0, 0, 1]\t105 [0, 1, 1, 1, 0]\t106 [0, 1, 1, 0, 1]\t107 [0, 0, 1, 0, 1]\t\n",
      "108 [0, 0, 1, 0, 1]\t109 [1, 0, 1, 0, 1]\t110 [1, 0, 1, 0, 1]\t111 [1, 1, 1, 0, 0]\t112 [1, 1, 1, 1, 0]\t113 [1, 1, 1, 0, 1]\t\n",
      "114 [1, 1, 1, 0, 1]\t115 [0, 1, 1, 1, 0]\t116 [1, 0, 1, 0, 1]\t117 [1, 1, 1, 0, 0]\t118 [0, 1, 1, 0, 0]\t119 [0, 1, 1, 1, 0]\t\n",
      "120 [1, 0, 1, 0, 0]\t121 [0, 0, 1, 0, 0]\t122 [1, 1, 1, 0, 1]\t123 [1, 1, 1, 0, 0]\t124 [1, 0, 1, 0, 0]\t125 [1, 1, 1, 0, 0]\t\n",
      "126 [1, 1, 1, 0, 0]\t127 [0, 0, 1, 0, 1]\t128 [1, 1, 1, 0, 1]\t129 [0, 0, 1, 0, 1]\t130 [0, 0, 1, 0, 0]\t131 [0, 0, 0, 0, 1]\t\n",
      "132 [1, 1, 1, 0, 0]\t133 [1, 1, 1, 0, 0]\t134 [0, 1, 1, 0, 0]\t135 [1, 1, 1, 1, 0]\t136 [1, 1, 1, 0, 0]\t137 [0, 1, 1, 0, 1]\t\n",
      "138 [1, 1, 1, 0, 1]\t139 [1, 1, 1, 0, 0]\t140 [1, 1, 1, 0, 1]\t141 [0, 0, 1, 0, 0]\t142 [0, 0, 1, 0, 0]\t143 [1, 1, 1, 0, 0]\t\n",
      "144 [1, 1, 1, 0, 0]\t145 None\t146 [1, 1, 1, 0, 0]\t147 [1, 1, 1, 0, 0]\t148 [1, 1, 1, 0, 0]\t149 [1, 1, 1, 0, 0]\t\n",
      "150 [1, 1, 1, 0, 1]\t151 [0, 0, 1, 0, 1]\t152 [1, 1, 1, 0, 0]\t153 [1, 1, 1, 0, 0]\t154 [1, 1, 1, 1, 0]\t155 [0, 0, 1, 0, 0]\t\n",
      "156 [1, 1, 1, 0, 0]\t157 [0, 0, 1, 0, 1]\t158 [0, 0, 1, 0, 0]\t159 [1, 1, 1, 0, 0]\t160 [1, 1, 1, 0, 0]\t161 [1, 1, 1, 0, 1]\t\n",
      "162 [1, 1, 1, 0, 0]\t163 None\t164 [0, 1, 1, 1, 0]\t165 [1, 1, 1, 0, 0]\t166 [1, 1, 1, 0, 0]\t167 [1, 1, 1, 0, 1]\t\n",
      "168 [1, 1, 1, 0, 0]\t169 [1, 1, 1, 0, 0]\t170 [0, 0, 1, 0, 0]\t171 [1, 1, 1, 0, 0]\t172 [0, 1, 1, 1, 0]\t173 [0, 1, 1, 0, 0]\t\n",
      "174 [0, 0, 1, 0, 0]\t175 [1, 0, 1, 0, 1]\t176 [1, 1, 1, 1, 0]\t177 [0, 0, 0, 1, 0]\t178 [0, 1, 1, 1, 0]\t179 [0, 1, 1, 1, 0]\t\n",
      "180 [1, 1, 1, 0, 0]\t181 [1, 1, 1, 1, 0]\t182 [1, 1, 1, 1, 0]\t183 [0, 0, 1, 0, 1]\t184 [1, 1, 1, 0, 0]\t185 [0, 1, 1, 0, 0]\t\n",
      "186 [1, 1, 1, 0, 0]\t187 [1, 1, 1, 0, 1]\t188 [0, 1, 0, 0, 1]\t189 [1, 1, 1, 0, 0]\t190 [1, 1, 1, 0, 1]\t191 [0, 1, 1, 1, 0]\t\n",
      "192 [1, 1, 1, 1, 0]\t193 [0, 1, 1, 1, 0]\t194 [1, 0, 1, 0, 0]\t195 [1, 1, 1, 1, 0]\t196 [1, 0, 1, 0, 1]\t197 None\t\n",
      "198 [1, 1, 1, 0, 0]\t199 [1, 1, 1, 0, 1]\t200 [1, 1, 1, 0, 1]\t201 [1, 1, 1, 0, 0]\t202 [1, 0, 1, 0, 1]\t203 [1, 0, 1, 0, 0]\t\n",
      "204 [1, 1, 1, 0, 0]\t205 [0, 0, 1, 0, 0]\t206 [0, 0, 0, 0, 1]\t207 [1, 1, 1, 1, 0]\t208 [1, 1, 0, 1, 0]\t209 [0, 0, 1, 0, 1]\t\n",
      "210 None\t"
     ]
    },
    {
     "ename": "IndexError",
     "evalue": "list index out of range",
     "output_type": "error",
     "traceback": [
      "\u001b[1;31m---------------------------------------------------------------------------\u001b[0m",
      "\u001b[1;31mIndexError\u001b[0m                                Traceback (most recent call last)",
      "Cell \u001b[1;32mIn[431], line 3\u001b[0m\n\u001b[0;32m      1\u001b[0m \u001b[38;5;28mall\u001b[39m\u001b[38;5;241m=\u001b[39m[]\n\u001b[0;32m      2\u001b[0m \u001b[38;5;28;01mfor\u001b[39;00m i,a \u001b[38;5;129;01min\u001b[39;00m \u001b[38;5;28menumerate\u001b[39m(ann):\n\u001b[1;32m----> 3\u001b[0m     \u001b[38;5;28mall\u001b[39m\u001b[38;5;241m.\u001b[39mappend(\u001b[43mextract2\u001b[49m\u001b[43m(\u001b[49m\u001b[43ma\u001b[49m\u001b[43m)\u001b[49m)\n\u001b[0;32m      4\u001b[0m     \u001b[38;5;28mprint\u001b[39m(i,extract2(a),end\u001b[38;5;241m=\u001b[39m\u001b[38;5;124m'\u001b[39m\u001b[38;5;130;01m\\t\u001b[39;00m\u001b[38;5;124m'\u001b[39m)\n\u001b[0;32m      5\u001b[0m     \u001b[38;5;28;01mif\u001b[39;00m((i\u001b[38;5;241m+\u001b[39m\u001b[38;5;241m1\u001b[39m)\u001b[38;5;241m%\u001b[39m\u001b[38;5;241m6\u001b[39m\u001b[38;5;241m==\u001b[39m\u001b[38;5;241m0\u001b[39m):\n",
      "Cell \u001b[1;32mIn[283], line 7\u001b[0m, in \u001b[0;36mextract2\u001b[1;34m(analysis_text)\u001b[0m\n\u001b[0;32m      5\u001b[0m \u001b[38;5;28;01mfor\u001b[39;00m line \u001b[38;5;129;01min\u001b[39;00m lines:\n\u001b[0;32m      6\u001b[0m     \u001b[38;5;28;01mif\u001b[39;00m line\u001b[38;5;241m.\u001b[39mstartswith(\u001b[38;5;124m\"\u001b[39m\u001b[38;5;124mOutput:\u001b[39m\u001b[38;5;124m\"\u001b[39m):\n\u001b[1;32m----> 7\u001b[0m         list_str \u001b[38;5;241m=\u001b[39m \u001b[43mline\u001b[49m\u001b[38;5;241;43m.\u001b[39;49m\u001b[43msplit\u001b[49m\u001b[43m(\u001b[49m\u001b[38;5;124;43m\"\u001b[39;49m\u001b[38;5;124;43m: \u001b[39;49m\u001b[38;5;124;43m\"\u001b[39;49m\u001b[43m)\u001b[49m\u001b[43m[\u001b[49m\u001b[38;5;241;43m1\u001b[39;49m\u001b[43m]\u001b[49m\u001b[38;5;241m.\u001b[39mstrip()\n\u001b[0;32m      8\u001b[0m         \u001b[38;5;28;01mtry\u001b[39;00m:\n\u001b[0;32m      9\u001b[0m             \u001b[38;5;28;01mreturn\u001b[39;00m \u001b[38;5;28meval\u001b[39m(list_str) \n",
      "\u001b[1;31mIndexError\u001b[0m: list index out of range"
     ]
    }
   ],
   "source": [
    "all=[]\n",
    "for i,a in enumerate(ann):\n",
    "    all.append(extract2(a))\n",
    "    print(i,extract2(a),end='\\t')\n",
    "    if((i+1)%6==0):\n",
    "        print()\n",
    "\n"
   ]
  },
  {
   "cell_type": "code",
   "execution_count": 446,
   "id": "e0b90d6f-b6a5-4c3e-a17c-56c58b2c7145",
   "metadata": {},
   "outputs": [
    {
     "name": "stdout",
     "output_type": "stream",
     "text": [
      "239,\n",
      "0 [1, 1, 1, 0, 0]\t1 [1, 1, 1, 0, 0]\t2 [1, 1, 1, 0, 0]\t3 [1, 1, 1, 0, 0]\t4 [1, 1, 1, 0, 1]\t5 [1, 0, 1, 0, 0]\t\n",
      "6 [1, 1, 1, 0, 1]\t7 [1, 1, 1, 1, 0]\t8 [1, 0, 1, 0, 0]\t9 [1, 1, 1, 1, 0]\t10 [1, 1, 1, 1, 0]\t11 [1, 1, 1, 0, 0]\t\n",
      "12 [1, 1, 1, 0, 0]\t13 [1, 0, 1, 2, 0]\t14 [1, 0, 1, 0, 0]\t15 [1, 1, 1, 1, 0]\t16 [1, 1, 1, 0, 0]\t17 [1, 0, 1, 0, 1]\t\n",
      "18 [1, 1, 1, 0, 1]\t19 [0, 0, 1, 0, 1]\t20 [0, 0, 1, 0, 0]\t21 [0, 0, 1, 0, 1]\t22 [1, 1, 1, 0, 0]\t23 [1, 0, 0, 1, 0]\t\n",
      "24 [0, 0, 1, 0, 0]\t25 [0, 0, 1, 0, 0]\t26 [1, 1, 1, 1, 0]\t27 [0, 1, 1, 0, 0]\t28 [1, 1, 1, 0, 0]\t29 [1, 1, 1, 0, 0]\t\n",
      "30 [0, 1, 1, 1, 0]\t31 [0, 1, 1, 0, 1]\t32 [0, 1, 0, 0, 1]\t33 [1, 1, 1, 0, 0]\t34 [1, 1, 1, 0, 1]\t35 [1, 1, 1, 0, 0]\t\n",
      "36 [1, 1, 1, 0, 0]\t37 [1, 1, 1, 1, 0]\t38 [1, 1, 1, 0, 0]\t39 [0, 0, 0, 0, 1]\t40 [1, 1, 1, 1, 0]\t41 [0, 1, 1, 0, 0]\t\n",
      "42 [0, 0, 1, 1, 0]\t43 [1, 1, 1, 0, 0]\t44 [1, 1, 1, 0, 1]\t45 [1, 0, 0, 0, 0]\t46 [1, 1, 1, 0, 0]\t47 [1, 1, 1, 1, 0]\t\n",
      "48 [0, 1, 1, 0, 0]\t49 [0, 0, 1, 1, 0]\t50 [0, 0, 1, 0, 0]\t51 [0, 1, 1, 0, 1]\t52 [1, 1, 1, 0, 0]\t53 [1, 1, 1, 0, 0]\t\n",
      "54 [1, 1, 1, 1, 0]\t55 [1, 0, 1, 0, 1]\t56 [0, 0, 1, 0, 1]\t57 [1, 1, 1, 0, 0]\t58 [0, 1, 1, 0, 0]\t59 [1, 1, 1, 0, 1]\t\n",
      "60 [1, 1, 1, 0, 0]\t61 [1, 1, 1, 0, 1]\t62 [0, 1, 0, 0, 1]\t63 [1, 0, 1, 0, 0]\t64 [1, 1, 1, 0, 1]\t65 [1, 1, 1, 0, 0]\t\n",
      "66 [0, 1, 1, 0, 1]\t67 [0, 0, 1, 0, 1]\t68 [1, 1, 1, 0, 1]\t69 [0, 1, 1, 0, 0]\t70 [1, 1, 1, 0, 0]\t71 [0, 1, 1, 0, 0]\t\n",
      "72 [1, 0, 1, 0, 0]\t73 [1, 1, 1, 1, 0]\t74 [0, 0, 0, 0, 1]\t75 [1, 1, 1, 0, 0]\t76 [1, 1, 1, 0, 1]\t77 [0, 1, 1, 0, 0]\t\n",
      "78 [0, 0, 1, 0, 1]\t79 [1, 1, 1, 1, 0]\t80 [1, 0, 1, 0, 1]\t81 [1, 1, 1, 1, 0]\t82 [0, 1, 1, 0, 0]\t83 [0, 0, 0, 0, 1]\t\n",
      "84 [0, 1, 1, 0, 1]\t85 [1, 1, 1, 0, 1]\t86 [1, 0, 1, 0, 1]\t87 [1, 1, 1, 0, 0]\t88 [1, 1, 1, 0, 0]\t89 [0, 0, 0, 0, 1]\t\n",
      "90 [1, 1, 1, 0, 0]\t91 [1, 0, 1, 0, 0]\t92 [1, 1, 1, 0, 1]\t93 [1, 1, 1, 1, 0]\t94 [1, 1, 1, 0, 0]\t95 [1, 0, 1, 0, 1]\t\n",
      "96 [1, 0, 1, 0, 0]\t97 [1, 1, 1, 0, 0]\t98 [1, 1, 1, 0, 0]\t99 [1, 1, 1, 0, 0]\t100 [1, 1, 1, 0, 1]\t101 [1, 1, 1, 0, 0]\t\n",
      "102 [1, 0, 1, 1, 0]\t103 [1, 1, 1, 0, 0]\t104 [0, 0, 0, 0, 1]\t105 [0, 1, 1, 1, 0]\t106 [0, 1, 1, 0, 1]\t107 [0, 0, 1, 0, 1]\t\n",
      "108 [0, 0, 1, 0, 1]\t109 [1, 0, 1, 0, 1]\t110 [1, 0, 1, 0, 1]\t111 [1, 1, 1, 0, 0]\t112 [1, 1, 1, 1, 0]\t113 [1, 1, 1, 0, 1]\t\n",
      "114 [1, 1, 1, 0, 1]\t115 [0, 1, 1, 1, 0]\t116 [1, 0, 1, 0, 1]\t117 [1, 1, 1, 0, 0]\t118 [0, 1, 1, 0, 0]\t119 [0, 1, 1, 1, 0]\t\n",
      "120 [1, 0, 1, 0, 0]\t121 [0, 0, 1, 0, 0]\t122 [1, 1, 1, 0, 1]\t123 [1, 1, 1, 0, 0]\t124 [1, 0, 1, 0, 0]\t125 [1, 1, 1, 0, 0]\t\n",
      "126 [1, 1, 1, 0, 0]\t127 [0, 0, 1, 0, 1]\t128 [1, 1, 1, 0, 1]\t129 [0, 0, 1, 0, 1]\t130 [0, 0, 1, 0, 0]\t131 [0, 0, 0, 0, 1]\t\n",
      "132 [1, 1, 1, 0, 0]\t133 [1, 1, 1, 0, 0]\t134 [0, 1, 1, 0, 0]\t135 [1, 1, 1, 1, 0]\t136 [1, 1, 1, 0, 0]\t137 [0, 1, 1, 0, 1]\t\n",
      "138 [1, 1, 1, 0, 1]\t139 [1, 1, 1, 0, 0]\t140 [1, 1, 1, 0, 1]\t141 [0, 0, 1, 0, 0]\t142 [0, 0, 1, 0, 0]\t143 [1, 1, 1, 0, 0]\t\n",
      "144 [1, 1, 1, 0, 0]\t145 [0, 1, 1, 0, 0]\t146 [1, 1, 1, 0, 0]\t147 [1, 1, 1, 0, 0]\t148 [1, 1, 1, 0, 0]\t149 [1, 1, 1, 0, 0]\t\n",
      "150 [1, 1, 1, 0, 1]\t151 [0, 0, 1, 0, 1]\t152 [1, 1, 1, 0, 0]\t153 [1, 1, 1, 0, 0]\t154 [1, 1, 1, 1, 0]\t155 [0, 0, 1, 0, 0]\t\n",
      "156 [1, 1, 1, 0, 0]\t157 [0, 0, 1, 0, 1]\t158 [0, 0, 1, 0, 0]\t159 [1, 1, 1, 0, 0]\t160 [1, 1, 1, 0, 0]\t161 [1, 1, 1, 0, 1]\t\n",
      "162 [1, 1, 1, 0, 0]\t163 [0, 1, 1, 0, 0]\t164 [0, 1, 1, 1, 0]\t165 [1, 1, 1, 0, 0]\t166 [1, 1, 1, 0, 0]\t167 [1, 1, 1, 0, 1]\t\n",
      "168 [1, 1, 1, 0, 0]\t169 [1, 1, 1, 0, 0]\t170 [0, 0, 1, 0, 0]\t171 [1, 1, 1, 0, 0]\t172 [0, 1, 1, 1, 0]\t173 [0, 1, 1, 0, 0]\t\n",
      "174 [0, 0, 1, 0, 0]\t175 [1, 0, 1, 0, 1]\t176 [1, 1, 1, 1, 0]\t177 [0, 0, 0, 1, 0]\t178 [0, 1, 1, 1, 0]\t179 [0, 1, 1, 1, 0]\t\n",
      "180 [1, 1, 1, 0, 0]\t181 [1, 1, 1, 1, 0]\t182 [1, 1, 1, 1, 0]\t183 [0, 0, 1, 0, 1]\t184 [1, 1, 1, 0, 0]\t185 [0, 1, 1, 0, 0]\t\n",
      "186 [1, 1, 1, 0, 0]\t187 [1, 1, 1, 0, 1]\t188 [0, 1, 0, 0, 1]\t189 [1, 1, 1, 0, 0]\t190 [1, 1, 1, 0, 1]\t191 [0, 1, 1, 1, 0]\t\n",
      "192 [1, 1, 1, 1, 0]\t193 [0, 1, 1, 1, 0]\t194 [1, 0, 1, 0, 0]\t195 [1, 1, 1, 1, 0]\t196 [1, 0, 1, 0, 1]\t197 [1, 1, 1, 1, 0]\t\n",
      "198 [1, 1, 1, 0, 0]\t199 [1, 1, 1, 0, 1]\t200 [1, 1, 1, 0, 1]\t201 [1, 1, 1, 0, 0]\t202 [1, 0, 1, 0, 1]\t203 [1, 0, 1, 0, 0]\t\n",
      "204 [1, 1, 1, 0, 0]\t205 [0, 0, 1, 0, 0]\t206 [0, 0, 0, 0, 1]\t207 [1, 1, 1, 1, 0]\t208 [1, 1, 0, 1, 0]\t209 [0, 0, 1, 0, 1]\t\n",
      "210 [1, 1, 1, 0, 1]\t211 [1, 1, 1, 0, 0]\t212 [1, 0, 1, 0, 1]\t213 [0, 0, 1, 1, 0]\t214 [1, 0, 1, 0, 1]\t215 [1, 1, 1, 0, 0]\t\n",
      "216 [1, 0, 1, 1, 0]\t217 [1, 1, 1, 0, 0]\t218 [0, 1, 1, 0, 1]\t219 [1, 0, 1, 0, 0]\t220 [1, 1, 1, 1, 0]\t221 [1, 0, 1, 0, 1]\t\n",
      "222 [0, 0, 1, 0, 0]\t223 [1, 1, 1, 1, 0]\t224 [1, 1, 1, 0, 0]\t225 [0, 1, 1, 0, 1]\t226 [1, 1, 1, 0, 1]\t227 [0, 0, 1, 0, 0]\t\n",
      "228 [1, 1, 1, 0, 0]\t229 [1, 1, 1, 0, 0]\t230 [1, 1, 1, 0, 1]\t231 [1, 0, 1, 1, 0]\t232 [1, 1, 1, 0, 0]\t233 [0, 1, 1, 0, 0]\t\n",
      "234 [0, 0, 1, 0, 1]\t235 [1, 1, 1, 0, 0]\t236 [1, 1, 1, 0, 0]\t237 [0, 1, 1, 0, 0]\t238 [1, 0, 1, 1, 0]\t239 [1, 1, 1, 0, 0]\t\n",
      "240 [1, 1, 1, 0, 0]\t241 [1, 1, 1, 0, 0]\t242 [1, 0, 1, 0, 1]\t243 [0, 1, 1, 0, 0]\t244 [1, 1, 1, 0, 0]\t245 [1, 1, 1, 0, 0]\t\n",
      "246 [1, 1, 1, 0, 0]\t247 [0, 0, 0, 0, 1]\t248 [1, 1, 1, 0, 0]\t249 [1, 1, 1, 0, 0]\t250 [1, 1, 1, 1, 0]\t251 [1, 1, 1, 0, 1]\t\n",
      "252 [1, 1, 1, 1, 0]\t253 [1, 0, 1, 0, 1]\t254 [1, 1, 1, 1, 0]\t255 [1, 1, 1, 0, 1]\t256 [0, 0, 0, 0, 0]\t257 [0, 0, 1, 0, 1]\t\n",
      "258 [1, 1, 1, 0, 0]\t259 [1, 1, 1, 0, 0]\t260 [1, 1, 1, 0, 0]\t261 [1, 1, 1, 1, 0]\t262 [1, 1, 1, 0, 0]\t263 [1, 1, 1, 0, 0]\t\n",
      "264 [1, 0, 1, 0, 0]\t265 [1, 0, 1, 0, 0]\t266 [1, 1, 1, 0, 0]\t267 [0, 0, 1, 1, 1]\t268 [1, 1, 1, 0, 0]\t269 [1, 1, 1, 0, 0]\t\n",
      "270 [0, 1, 1, 0, 0]\t271 [1, 1, 1, 0, 0]\t272 [0, 1, 1, 1, 0]\t273 [1, 1, 1, 0, 0]\t274 [1, 1, 1, 0, 0]\t275 [0, 1, 1, 0, 0]\t\n",
      "276 [1, 1, 1, 0, 0]\t277 [1, 1, 1, 0, 0]\t278 [0, 0, 0, 0, 1]\t279 [0, 0, 1, 0, 1]\t280 [1, 0, 1, 1, 0]\t281 [0, 0, 1, 0, 1]\t\n",
      "282 [0, 1, 1, 0, 0]\t283 [0, 0, 1, 1, 0]\t284 [1, 1, 1, 0, 0]\t285 [0, 0, 1, 0, 0]\t286 [0, 0, 1, 0, 0]\t287 [1, 1, 1, 1, 0]\t\n",
      "288 [0, 1, 1, 0, 1]\t289 [0, 0, 1, 0, 0]\t290 [1, 1, 1, 0, 0]\t291 [1, 1, 1, 0, 0]\t292 [1, 1, 1, 0, 0]\t293 [0, 1, 1, 0, 0]\t\n",
      "294 [0, 0, 0, 0, 1]\t295 [0, 0, 1, 0, 1]\t296 [0, 0, 1, 1, 0]\t297 [1, 1, 1, 0, 0]\t298 [0, 1, 1, 0, 1]\t299 [1, 0, 1, 0, 1]\t\n",
      "300 [1, 1, 1, 0, 0]\t301 [0, 1, 1, 0, 0]\t302 [0, 1, 1, 0, 1]\t303 [1, 0, 1, 0, 0]\t304 [0, 1, 1, 0, 1]\t305 [1, 0, 1, 0, 0]\t\n",
      "306 [0, 0, 1, 0, 0]\t307 [1, 1, 1, 1, 0]\t308 [1, 1, 1, 0, 0]\t309 [1, 1, 1, 0, 0]\t310 [1, 1, 1, 1, 0]\t311 [0, 1, 1, 0, 1]\t\n",
      "312 [0, 0, 1, 0, 1]\t313 [1, 1, 1, 0, 0]\t314 [1, 0, 1, 0, 0]\t315 [0, 0, 1, 0, 1]\t316 [0, 0, 1, 0, 0]\t317 [0, 1, 1, 1, 0]\t\n",
      "318 [0, 0, 1, 0, 0]\t319 [1, 1, 1, 0, 0]\t320 [0, 0, 1, 0, 0]\t321 [1, 1, 1, 1, 0]\t322 [0, 0, 1, 0, 1]\t323 [1, 1, 1, 0, 0]\t\n",
      "324 [1, 1, 1, 0, 0]\t325 [0, 1, 0, 0, 0]\t"
     ]
    }
   ],
   "source": [
    "li=[239]\n",
    "for i in li:\n",
    "    data = {\n",
    "        \"messages\": [\n",
    "            {\"role\": \"user\",\"content\":pre+birds[i],}\n",
    "        ],\n",
    "        \"model\": \"claude-1.3\",\n",
    "        # \"model\":\"claude-3-opus-20240229\",\n",
    "        \"max_tokens_to_sample\": 1500,\n",
    "    }   \n",
    "    response = requests.post(url, headers=headers, json=data)\n",
    "    data = json.loads(response.text)\n",
    "    content =  data[\"choices\"][0][\"message\"][\"content\"]\n",
    "    print(i,end=',')\n",
    "    ann[i]=content\n",
    "# print(ann[i])\n",
    "# print('-'*99)\n",
    "#############################\n",
    "print()\n",
    "all=[]\n",
    "for i,a in enumerate(ann):\n",
    "    all.append(extract2(a))\n",
    "    print(i,extract2(a),end='\\t')\n",
    "    if((i+1)%6==0):\n",
    "        print()\n",
    "# ann.append(content)"
   ]
  },
  {
   "cell_type": "code",
   "execution_count": 444,
   "id": "e208f8b7-e69c-4531-a4a0-dc0025189c6f",
   "metadata": {},
   "outputs": [
    {
     "name": "stdout",
     "output_type": "stream",
     "text": [
      "[282]\n",
      "[282, 290]\n",
      "[282, 290, 293]\n",
      "[282, 290, 293, 314]\n"
     ]
    }
   ],
   "source": [
    "li=[]\n",
    "for i,a in enumerate(ann):\n",
    "    if(extract2(a)==None):\n",
    "        li.append(i)\n",
    "        print(li)"
   ]
  },
  {
   "cell_type": "code",
   "execution_count": 283,
   "id": "f1bfea54-2b47-42e8-a4f1-626ec7b94de7",
   "metadata": {},
   "outputs": [],
   "source": [
    "\n",
    "def extract2(analysis_text):\n",
    "    lines = analysis_text.splitlines()\n",
    "\n",
    "    # First, check for the \"Output:\" line:\n",
    "    for line in lines:\n",
    "        if line.startswith(\"Output:\"):\n",
    "            list_str = line.split(\": \")[1].strip()\n",
    "            try:\n",
    "                return eval(list_str) \n",
    "            except:\n",
    "                return None \n",
    "\n",
    "    # If not found, search for any line starting with a list:\n",
    "    for line in lines:\n",
    "        if line.startswith(\"[\"): \n",
    "            try:\n",
    "                return eval(line)  \n",
    "            except:\n",
    "                pass  \n",
    "\n",
    "    return None  # Return None if no list is found with either method\n"
   ]
  },
  {
   "cell_type": "code",
   "execution_count": 447,
   "id": "57c704cd-bcb4-4563-8124-e2ef58b5b0b7",
   "metadata": {},
   "outputs": [
    {
     "name": "stdout",
     "output_type": "stream",
     "text": [
      "326\n",
      "214   223   307   61   96   "
     ]
    }
   ],
   "source": [
    "print(len(all))\n",
    "bll = list(zip(*all))\n",
    "for i in range(5):\n",
    "    print(sum(bll[i]),end='   ')\n",
    "\n",
    "#GPT-4-1106\n",
    "# 278   198   323   46   117  \n",
    "\n",
    "#GPT-4-0125\n",
    "# 279   195   317   45   123    \n",
    "\n",
    "#GPT-4-0613\n",
    "# 277   188   319   45   122\n",
    "\n",
    "#Claude opus\n",
    "#263   231   323   57   181  \n",
    "\n",
    "#Claude 2.1\n",
    "# 167   185   260   57   61  \n",
    "    \n",
    "#Claude 2.0\n",
    "#170   205   283   62   60   \n",
    "\n",
    "#Claude 1.3\n",
    "#214   223   307   61   96"
   ]
  },
  {
   "cell_type": "code",
   "execution_count": 448,
   "id": "d2db73e1-7166-4715-9da6-6c9e7f0a0ed5",
   "metadata": {},
   "outputs": [],
   "source": [
    "import json\n",
    "with open(\"Annotation/five_Claud1.3.json\", \"w\") as outfile:  \n",
    "    json.dump(bll, outfile) \n"
   ]
  },
  {
   "cell_type": "code",
   "execution_count": 411,
   "id": "bd5740f7-b45b-4e6e-9161-319723502b3c",
   "metadata": {},
   "outputs": [
    {
     "name": "stdout",
     "output_type": "stream",
     "text": [
      "{'choices': [{'message': {'content': ' [1, 0, 0, 1, 0]  '}}]}\n"
     ]
    }
   ],
   "source": [
    "data = {\n",
    "    \"messages\": [\n",
    "        {\"role\": \"user\",\"content\":pre+birds[0],}\n",
    "    ],\n",
    "    \"model\": \"claude-1.3\",\n",
    "    # \"model\":\"claude-3-opus-20240229\",\n",
    "    \"max_tokens_to_sample\": 1500,\n",
    "}   \n",
    "response = requests.post(url, headers=headers, json=data)\n",
    "dat = json.loads(response.text)\n",
    "print(dat)\n",
    "# content =  dat[\"choices\"][0][\"message\"][\"content\"]\n",
    "# print(content)"
   ]
  },
  {
   "cell_type": "code",
   "execution_count": null,
   "id": "545274b9-1f2c-4f23-bd3c-38371599a7e8",
   "metadata": {},
   "outputs": [],
   "source": []
  }
 ],
 "metadata": {
  "kernelspec": {
   "display_name": "Python 3 (ipykernel)",
   "language": "python",
   "name": "python3"
  },
  "language_info": {
   "codemirror_mode": {
    "name": "ipython",
    "version": 3
   },
   "file_extension": ".py",
   "mimetype": "text/x-python",
   "name": "python",
   "nbconvert_exporter": "python",
   "pygments_lexer": "ipython3",
   "version": "3.12.1"
  }
 },
 "nbformat": 4,
 "nbformat_minor": 5
}
